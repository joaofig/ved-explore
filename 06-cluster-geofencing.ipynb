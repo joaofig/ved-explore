{
 "cells": [
  {
   "cell_type": "markdown",
   "metadata": {},
   "source": [
    "# 6-Cluster Geofencing\n",
    "\n",
    "In this notebook we use the results from the previous one to display the geographic clusters on a map, using the H3 package.\n",
    "\n",
    "**Requirements:**\n",
    "\n",
    "- Please run the `05-clustering-hdbscan.ipynb` notebook first and its dependencies.\n",
    "- Recommended install: [ipywidgets](https://ipywidgets.readthedocs.io/en/stable/user_install.html). Enable using `jupyter nbextension enable --py widgetsnbextension --sys-prefix` for Jupyter Notebook and `jupyter labextension install @jupyter-widgets/jupyterlab-manager` for Jupyter Lab."
   ]
  },
  {
   "cell_type": "code",
   "execution_count": null,
   "metadata": {},
   "outputs": [],
   "source": [
    "import numpy as np\n",
    "import folium\n",
    "import ipywidgets as widgets\n",
    "import networkx as nx\n",
    "\n",
    "from folium.vector_layers import PolyLine\n",
    "from sqlapi import VedDb\n",
    "from h3 import h3\n",
    "from shapely.geometry import Polygon\n",
    "from shapely.ops import cascaded_union\n",
    "from ipywidgets import interact\n",
    "from tqdm.auto import tqdm"
   ]
  },
  {
   "cell_type": "markdown",
   "metadata": {},
   "source": [
    "Create an object of the `VedDB` type to interface with the database."
   ]
  },
  {
   "cell_type": "code",
   "execution_count": null,
   "metadata": {},
   "outputs": [],
   "source": [
    "db = VedDb()"
   ]
  },
  {
   "cell_type": "markdown",
   "metadata": {},
   "source": [
    "To illustrate the process of retrieval of an endpoint's hexagons, let's run a simple query to return all the H3 codes for cluster number 23."
   ]
  },
  {
   "cell_type": "code",
   "execution_count": null,
   "metadata": {},
   "outputs": [],
   "source": [
    "def get_cluster_hexes(cluster_id):\n",
    "    sql = \"select h3 from cluster_point where cluster_id = ?\"\n",
    "    hexes = list({h[0] for h in db.query(sql, [cluster_id])})\n",
    "    return hexes"
   ]
  },
  {
   "cell_type": "code",
   "execution_count": null,
   "metadata": {},
   "outputs": [],
   "source": [
    "hexes = get_cluster_hexes(23)\n",
    "hexes"
   ]
  },
  {
   "cell_type": "markdown",
   "metadata": {},
   "source": [
    "The code above uses a Python `set` comprehension in order to retrieve the unique H3 codes. As you probably guessed, it is very likely to find overlapping H3 hexagons in the same cluster, and using a `set` eliminates repetitions.\n",
    "\n",
    "To convert an H3 code into a map object, we must first expand it into a set of six geo locations using the `h3_to_geo_boundary` function."
   ]
  },
  {
   "cell_type": "code",
   "execution_count": null,
   "metadata": {},
   "outputs": [],
   "source": [
    "h = hexes[0]"
   ]
  },
  {
   "cell_type": "markdown",
   "metadata": {},
   "source": [
    "The `get_hexagon` converts an H3 index into the corresponding hexagon vertices' geographic coordinates. Note how we copy the first coordinate to the back of the list in order to _close_ the polygon."
   ]
  },
  {
   "cell_type": "code",
   "execution_count": null,
   "metadata": {},
   "outputs": [],
   "source": [
    "def get_hexagon(h):\n",
    "    geo_lst = list(h3.h3_to_geo_boundary(h))\n",
    "    geo_lst.append(geo_lst[0])\n",
    "    return np.array(geo_lst)"
   ]
  },
  {
   "cell_type": "markdown",
   "metadata": {},
   "source": [
    "Let's see how the function works."
   ]
  },
  {
   "cell_type": "code",
   "execution_count": null,
   "metadata": {},
   "outputs": [],
   "source": [
    "hexagon = get_hexagon(h)\n",
    "hexagon"
   ]
  },
  {
   "cell_type": "markdown",
   "metadata": {},
   "source": [
    "## Display the Hexagon on the Map\n",
    "\n",
    "To display the hexagon on a map, we use code that is similar to the one we used in notebook number 4 to display a trip.\n",
    "\n",
    "Let's start by declaring the map object."
   ]
  },
  {
   "cell_type": "code",
   "execution_count": null,
   "metadata": {},
   "outputs": [],
   "source": [
    "html_map = folium.Map(prefer_canvas=True, tiles=\"cartodbpositron\")"
   ]
  },
  {
   "cell_type": "markdown",
   "metadata": {},
   "source": [
    "Determine the shape's bounding box and fit the map view to it."
   ]
  },
  {
   "cell_type": "code",
   "execution_count": null,
   "metadata": {},
   "outputs": [],
   "source": [
    "min_lat, max_lat = hexagon[:, 0].min(), hexagon[:, 0].max()\n",
    "min_lon, max_lon = hexagon[:, 1].min(), hexagon[:, 1].max()\n",
    "html_map.fit_bounds([[min_lat, min_lon], [max_lat, max_lon]])"
   ]
  },
  {
   "cell_type": "markdown",
   "metadata": {},
   "source": [
    "Now, we create a `PolyLine` object and place it on the map."
   ]
  },
  {
   "cell_type": "code",
   "execution_count": null,
   "metadata": {},
   "outputs": [],
   "source": [
    "color = '#3388ff'\n",
    "opacity = 0.7\n",
    "polyline = PolyLine(hexagon, color=color, opacity=opacity, fill=color)\n",
    "p = polyline.add_to(map)"
   ]
  },
  {
   "cell_type": "code",
   "execution_count": null,
   "metadata": {},
   "outputs": [],
   "source": [
    "html_map"
   ]
  },
  {
   "cell_type": "markdown",
   "metadata": {},
   "source": [
    "## Display the Cluster on the Map\n",
    "\n",
    "We can now extend the code to the whole cluster and display all the hexagons side-by side."
   ]
  },
  {
   "cell_type": "code",
   "execution_count": null,
   "metadata": {},
   "outputs": [],
   "source": []
  },
  {
   "cell_type": "code",
   "execution_count": null,
   "metadata": {},
   "outputs": [],
   "source": [
    "html_map = folium.Map(prefer_canvas=True, tiles=\"cartodbpositron\")\n",
    "\n",
    "bb_list = []  # List for the bounding-box calculation\n",
    "\n",
    "for h in hexes:\n",
    "    hexagon = get_hexagon(h)\n",
    "    bb_list.extend(hexagon.tolist())\n",
    "    polyline = PolyLine(hexagon, color=color, opacity=opacity, fill=color)\n",
    "    p = polyline.add_to(html_map)\n",
    "    \n",
    "locations = np.array(bb_list)\n",
    "min_lat, max_lat = locations[:, 0].min(), locations[:, 0].max()\n",
    "min_lon, max_lon = locations[:, 1].min(), locations[:, 1].max()\n",
    "html_map.fit_bounds([[min_lat, min_lon], [max_lat, max_lon]])\n",
    "html_map"
   ]
  },
  {
   "cell_type": "markdown",
   "metadata": {},
   "source": [
    "But we can still do better: how about only displaying the cluster outline? We can do so by merging all the hexagons together using Shapely's `Polygon` object and the `cascaded_union` function. The idea is to model each hexagon as a `Polygon` and then merge them into a single map polygon."
   ]
  },
  {
   "cell_type": "code",
   "execution_count": null,
   "metadata": {},
   "outputs": [],
   "source": [
    "def create_map_polygon(xy, tooltip='',\n",
    "                       color='#3388ff',\n",
    "                       opacity=0.7,\n",
    "                       fill_color='#3388ff',\n",
    "                       fill_opacity=0.4, \n",
    "                       weight=3):\n",
    "    points = [[x[0], x[1]] for x in xy]\n",
    "    polygon = folium.vector_layers.Polygon(locations=points,\n",
    "                                           tooltip=tooltip,\n",
    "                                           fill=True,\n",
    "                                           color=color,\n",
    "                                           fill_color=fill_color,\n",
    "                                           fill_opacity=fill_opacity,\n",
    "                                           weight=weight,\n",
    "                                           opacity=opacity)\n",
    "    return polygon"
   ]
  },
  {
   "cell_type": "markdown",
   "metadata": {},
   "source": [
    "Start by creating the map with the whitewashed tiles."
   ]
  },
  {
   "cell_type": "code",
   "execution_count": null,
   "metadata": {},
   "outputs": [],
   "source": [
    "html_map = folium.Map(prefer_canvas=True, tiles=\"cartodbpositron\")"
   ]
  },
  {
   "cell_type": "markdown",
   "metadata": {},
   "source": [
    "Now, generate the H3 hexagons and convert them into Shapely `Polygon`s."
   ]
  },
  {
   "cell_type": "code",
   "execution_count": null,
   "metadata": {},
   "outputs": [],
   "source": [
    "bb_list = []  # List for the bounding-box calculation\n",
    "polygons = []\n",
    "for h in hexes:\n",
    "    points = get_hexagon(h)\n",
    "    xy = [[x[1], x[0]] for x in points]\n",
    "    xy.append([points[0][1], points[0][0]])\n",
    "    polygons.append(Polygon(xy))\n",
    "    bb_list.extend(points)"
   ]
  },
  {
   "cell_type": "markdown",
   "metadata": {},
   "source": [
    "With a single call to `cascaded_union`, we merge all the `Polygon` objects into a single one that we can conveniently plot on the map. Note that by converting all hexagons into a single polygon, we are not only making the display cleaner, but we are also reducing the amount of redundant points used to define the shape. If you decide to store the shape on a database, this will prove extremely useful."
   ]
  },
  {
   "cell_type": "code",
   "execution_count": null,
   "metadata": {},
   "outputs": [],
   "source": [
    "merged = cascaded_union(polygons)"
   ]
  },
  {
   "cell_type": "markdown",
   "metadata": {},
   "source": [
    "The polygon merge operation may have created a complex polygonal shape with \"holes\". To gracefully handle this situation, we must check if the generated object is a simple `Polygon` or a `MultiPolygon`. The former case is simple to handle, but for the latter we simply use the largest one."
   ]
  },
  {
   "cell_type": "code",
   "execution_count": null,
   "metadata": {},
   "outputs": [],
   "source": [
    "if merged.geom_type == \"MultiPolygon\":\n",
    "    max_len = 0\n",
    "    largest = None\n",
    "    for geom in merged.geoms:\n",
    "        xy = geom.exterior.coords.xy\n",
    "        lxy = list(zip(xy[1], xy[0]))\n",
    "\n",
    "#         if len(lxy) > max_len:\n",
    "#             max_len = len(lxy)\n",
    "#             largest = lxy\n",
    "\n",
    "        create_map_polygon(lxy).add_to(html_map)\n",
    "elif merged.geom_type == \"Polygon\":\n",
    "    xy = merged.exterior.coords.xy\n",
    "    lxy = list(zip(xy[1], xy[0]))\n",
    "\n",
    "    create_map_polygon(lxy).add_to(html_map)"
   ]
  },
  {
   "cell_type": "markdown",
   "metadata": {},
   "source": [
    "We can now fit the shape boundaries to the map and display it."
   ]
  },
  {
   "cell_type": "code",
   "execution_count": null,
   "metadata": {},
   "outputs": [],
   "source": [
    "locations = np.array(bb_list)\n",
    "min_lat, max_lat = locations[:, 0].min(), locations[:, 0].max()\n",
    "min_lon, max_lon = locations[:, 1].min(), locations[:, 1].max()\n",
    "html_map.fit_bounds([[min_lat, min_lon], [max_lat, max_lon]])\n",
    "html_map"
   ]
  },
  {
   "cell_type": "markdown",
   "metadata": {},
   "source": [
    "If you hover the mouse cursor over the shape you will see an empty tooltip. This feature would be interesting to use should we be able to automatically name these clusters, using real street name information. This is the challenge for the next notebook.\n",
    "\n",
    "Meanwhile, let's check the quality of the generated polygons."
   ]
  },
  {
   "cell_type": "markdown",
   "metadata": {},
   "source": [
    "## Interactive Cluster Exploration\n"
   ]
  },
  {
   "cell_type": "code",
   "execution_count": null,
   "metadata": {},
   "outputs": [],
   "source": [
    "def show_geofence_map(cluster_id):\n",
    "    html_map = folium.Map(prefer_canvas=True, tiles=\"cartodbpositron\")\n",
    "    bb_list = []  # List for the bounding-box calculation\n",
    "    polygons = []\n",
    "    hexes = get_cluster_hexes(cluster_id)\n",
    "    for h in hexes:\n",
    "        points = get_hexagon(h)\n",
    "        xy = [[x[1], x[0]] for x in points]\n",
    "        xy.append([points[0][1], points[0][0]])\n",
    "        polygons.append(Polygon(xy))\n",
    "        bb_list.extend(points)\n",
    "        \n",
    "    merged = cascaded_union(polygons)\n",
    "    \n",
    "    if merged.geom_type == \"MultiPolygon\":\n",
    "        max_len = 0\n",
    "        largest = None\n",
    "        for geom in merged.geoms:\n",
    "            xy = geom.exterior.coords.xy\n",
    "            lxy = list(zip(xy[1], xy[0]))\n",
    "            create_map_polygon(lxy).add_to(html_map)\n",
    "    elif merged.geom_type == \"Polygon\":\n",
    "        xy = merged.exterior.coords.xy\n",
    "        lxy = list(zip(xy[1], xy[0]))\n",
    "\n",
    "        create_map_polygon(lxy).add_to(html_map)\n",
    "        \n",
    "    locations = np.array(bb_list)\n",
    "    min_lat, max_lat = locations[:, 0].min(), locations[:, 0].max()\n",
    "    min_lon, max_lon = locations[:, 1].min(), locations[:, 1].max()\n",
    "    html_map.fit_bounds([[min_lat, min_lon], [max_lat, max_lon]])\n",
    "    return html_map"
   ]
  },
  {
   "cell_type": "code",
   "execution_count": null,
   "metadata": {},
   "outputs": [],
   "source": [
    "sql = \"select count(distinct cluster_id) from cluster_point\"\n",
    "cluster_count = db.query_scalar(sql)"
   ]
  },
  {
   "cell_type": "code",
   "execution_count": null,
   "metadata": {},
   "outputs": [],
   "source": [
    "cluster_count"
   ]
  },
  {
   "cell_type": "code",
   "execution_count": null,
   "metadata": {},
   "outputs": [],
   "source": [
    "ii = interact(show_geofence_map, cluster_id=widgets.IntSlider(min=0, max=cluster_count-1, step=1, value=0))"
   ]
  },
  {
   "cell_type": "markdown",
   "metadata": {},
   "source": [
    "It seems that not all clusters are represented by a single shape, and it is not a rare thing. What went wrong here?\n",
    "\n",
    "By selecting a fixed size for the H3 hexagons, we are actually enabling that these gaps show up when a particular set of points strays farther than the hexagon's size. How can we solve this issue? We can either increase the size of the hexagons, or we can be a bit smarter and build _bridges_ between the _islands_. But for that, we need the help from graph theory."
   ]
  },
  {
   "cell_type": "markdown",
   "metadata": {},
   "source": [
    "## Clusters as Networks\n",
    "\n",
    "The idea is to analyze a specific cluster and determine if all the hexagons are neighbors. A network is useful here to determine if there are isolated hexagons. First we create a network using `networkx` and feed it with all the hexagon codes as nodes. Next, for each pair of neighboring hexagons, we declare an edge on the network. Once this is done, we can compute the _connected components_ and use that as a means to connect them back.\n",
    "\n",
    "The function `graph_from_hexes` accepts a list od H3 indexes and build a graph of their neighboring status."
   ]
  },
  {
   "cell_type": "code",
   "execution_count": null,
   "metadata": {},
   "outputs": [],
   "source": [
    "def graph_from_hexes(hexes):\n",
    "    g = nx.Graph()\n",
    "    for i in range(len(hexes)):\n",
    "        g.add_node(hexes[i])\n",
    "        for j in range(i+1, len(hexes)):\n",
    "            if h3.h3_indexes_are_neighbors(hexes[i], hexes[j]):\n",
    "                g.add_edge(hexes[i], hexes[j])\n",
    "    return g"
   ]
  },
  {
   "cell_type": "markdown",
   "metadata": {},
   "source": [
    "Now, let's build and display the graph for cluster `0`."
   ]
  },
  {
   "cell_type": "code",
   "execution_count": null,
   "metadata": {},
   "outputs": [],
   "source": [
    "hexes = get_cluster_hexes(0)\n",
    "g = graph_from_hexes(hexes)\n",
    "nx.draw(g)"
   ]
  },
  {
   "cell_type": "markdown",
   "metadata": {},
   "source": [
    "We can now query how many connected components there are and which ones are they."
   ]
  },
  {
   "cell_type": "code",
   "execution_count": null,
   "metadata": {},
   "outputs": [],
   "source": [
    "nx.number_connected_components(g)"
   ]
  },
  {
   "cell_type": "code",
   "execution_count": null,
   "metadata": {},
   "outputs": [],
   "source": [
    "components = list(nx.connected_components(g))\n",
    "components"
   ]
  },
  {
   "cell_type": "markdown",
   "metadata": {},
   "source": [
    "To make our lives easier, `networkx` reports the connected components as a list of sets. But now we need to build the _bridge_ between the components, and we will use H3 for that. The idea is to use the `h3_line` function and enumerate all possible ways we have to connect the hexagons between the two components. We will keep the smallest line that should, in the best scenarios, have only 3 hexagons, and which is actually a very good early stopping criterion. Note that in some circumstances we might need more hexagons to bridge the gap.\n",
    "\n",
    "Let's see how the function works:"
   ]
  },
  {
   "cell_type": "code",
   "execution_count": null,
   "metadata": {},
   "outputs": [],
   "source": [
    "h3.h3_line('8c274994c85a3ff', '8c274994cbb45ff')"
   ]
  },
  {
   "cell_type": "markdown",
   "metadata": {},
   "source": [
    "Here's the draft of the algorithm below."
   ]
  },
  {
   "cell_type": "code",
   "execution_count": null,
   "metadata": {},
   "outputs": [],
   "source": [
    "bridges = []\n",
    "for h0 in components[0]:\n",
    "    for h1 in components[1]:\n",
    "        bridge = h3.h3_line(h0, h1)\n",
    "        bridges.append(bridge)"
   ]
  },
  {
   "cell_type": "markdown",
   "metadata": {},
   "source": [
    "We can now inspect the list of possible bridges and there three candidates. Take your pick!"
   ]
  },
  {
   "cell_type": "code",
   "execution_count": null,
   "metadata": {},
   "outputs": [],
   "source": [
    "bridges"
   ]
  },
  {
   "cell_type": "markdown",
   "metadata": {},
   "source": [
    "We can ask Python to do the work automatically for us:"
   ]
  },
  {
   "cell_type": "code",
   "execution_count": null,
   "metadata": {},
   "outputs": [],
   "source": [
    "min(bridges, key=lambda v: len(v))"
   ]
  },
  {
   "cell_type": "markdown",
   "metadata": {},
   "source": [
    "As you can see, both the first and last elements of the list already belong to the connected components. To patch up the cluster geofence, we just need the middle H3 index, and add it to the cluster.\n",
    "\n",
    "Below, we automate the process for all clusters by adding the missing hexagons to the clusters, not forgetting to store them in the database."
   ]
  },
  {
   "cell_type": "code",
   "execution_count": null,
   "metadata": {},
   "outputs": [],
   "source": [
    "def get_bridge(components):\n",
    "    bridges = []\n",
    "    for h0 in components[0]:\n",
    "        for h1 in components[1]:\n",
    "            bridge = h3.h3_line(h0, h1)\n",
    "            \n",
    "            if len(bridge) == 3:\n",
    "                # This is a good solution for sure\n",
    "                return bridge\n",
    "            bridges.append(bridge)\n",
    "    return min(bridges, key=lambda v: len(v))"
   ]
  },
  {
   "cell_type": "code",
   "execution_count": null,
   "metadata": {},
   "outputs": [],
   "source": [
    "for cluster_id in tqdm(range(cluster_count)):\n",
    "    hexes = get_cluster_hexes(cluster_id)\n",
    "    g = graph_from_hexes(hexes)\n",
    "    \n",
    "    while nx.number_connected_components(g) > 1:\n",
    "        components = list(nx.connected_components(g))\n",
    "        bridge = get_bridge(components)\n",
    "        \n",
    "        pts = []\n",
    "        for h in bridge[1:-1]:\n",
    "            lat_lon = h3.h3_to_geo(h)\n",
    "            hexes.append(h)\n",
    "            pts.append((cluster_id, lat_lon[0], lat_lon[1], h))\n",
    "            \n",
    "        db.insert_cluster_points(pts)\n",
    "        \n",
    "        # Rebuild the graph\n",
    "        g = graph_from_hexes(hexes)"
   ]
  },
  {
   "cell_type": "markdown",
   "metadata": {},
   "source": [
    "You can now go back to the interactive map and explore the patched geofences.\n",
    "\n",
    "In the next notebook we will try to give sensible names to these babies..."
   ]
  },
  {
   "cell_type": "code",
   "execution_count": null,
   "metadata": {},
   "outputs": [],
   "source": []
  }
 ],
 "metadata": {
  "kernelspec": {
   "display_name": "Python 3",
   "language": "python",
   "name": "python3"
  },
  "language_info": {
   "codemirror_mode": {
    "name": "ipython",
    "version": 3
   },
   "file_extension": ".py",
   "mimetype": "text/x-python",
   "name": "python",
   "nbconvert_exporter": "python",
   "pygments_lexer": "ipython3",
   "version": "3.7.7"
  }
 },
 "nbformat": 4,
 "nbformat_minor": 4
}
