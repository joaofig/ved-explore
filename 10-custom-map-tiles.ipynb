{
 "cells": [
  {
   "cell_type": "markdown",
   "metadata": {},
   "source": [
    "# 10-Custom Map Tiles\n",
    "In this notebook we ilustraate the use of the custom map tiles. Before running this code, please make sure that you have started the API server with the following command:\n",
    "\n",
    "`python tileapi.py`\n",
    "\n",
    "**Requirements:**\n",
    "\n",
    "- Please run the `02-import-data.ipynb` notebook first and all its dependencies."
   ]
  },
  {
   "cell_type": "code",
   "execution_count": null,
   "metadata": {},
   "outputs": [],
   "source": [
    "import folium\n",
    "\n",
    "from folium.raster_layers import TileLayer"
   ]
  },
  {
   "cell_type": "code",
   "execution_count": null,
   "metadata": {},
   "outputs": [],
   "source": []
  },
  {
   "cell_type": "code",
   "execution_count": null,
   "metadata": {},
   "outputs": [],
   "source": [
    "html_map = folium.Map(prefer_canvas=True, \n",
    "                      tiles=\"cartodbpositron\", \n",
    "                      location=(42.274569, -83.733228), \n",
    "                      zoom_start=13)\n",
    "tile_layer = TileLayer(tiles=\"http://localhost:2310/density/{x}/{y}/{z}\", overlay=True,\n",
    "                       attr=\"(C) JPF\")\n",
    "tile_layer.add_to(html_map)\n",
    "html_map"
   ]
  },
  {
   "cell_type": "code",
   "execution_count": null,
   "metadata": {},
   "outputs": [],
   "source": []
  }
 ],
 "metadata": {
  "kernelspec": {
   "display_name": "Python 3",
   "language": "python",
   "name": "python3"
  },
  "language_info": {
   "codemirror_mode": {
    "name": "ipython",
    "version": 3
   },
   "file_extension": ".py",
   "mimetype": "text/x-python",
   "name": "python",
   "nbconvert_exporter": "python",
   "pygments_lexer": "ipython3",
   "version": "3.8.2"
  }
 },
 "nbformat": 4,
 "nbformat_minor": 4
}
