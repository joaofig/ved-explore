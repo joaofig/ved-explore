{
 "cells": [
  {
   "cell_type": "markdown",
   "metadata": {},
   "source": [
    "# 2-Import Data\n",
    "In this notebook, we read data from the downloaded CSV files and Excel files, and import it into a SQLite database.\n",
    "\n",
    "**Requirements:**\n",
    "\n",
    "- Please run the `1-download-ved.ipynb` notebook first.\n",
    "- Recommended install: [ipywidgets](https://ipywidgets.readthedocs.io/en/stable/user_install.html)"
   ]
  },
  {
   "cell_type": "code",
   "execution_count": 1,
   "metadata": {},
   "outputs": [],
   "source": [
    "import numpy as np\n",
    "import pandas as pd\n",
    "import sqlite3\n",
    "import os\n",
    "\n",
    "from tqdm.notebook import tqdm\n",
    "from sqlapi import VedDb"
   ]
  },
  {
   "cell_type": "markdown",
   "metadata": {},
   "source": [
    "Set the data path and target file name."
   ]
  },
  {
   "cell_type": "code",
   "execution_count": 2,
   "metadata": {},
   "outputs": [],
   "source": [
    "data_path = \"./data\""
   ]
  },
  {
   "cell_type": "markdown",
   "metadata": {},
   "source": [
    "The `read_data_frame` reads data from a single CSV file into a Pandas DataFrame."
   ]
  },
  {
   "cell_type": "code",
   "execution_count": 3,
   "metadata": {},
   "outputs": [],
   "source": [
    "def read_data_frame(filename):\n",
    "    columns = ['DayNum', 'VehId', 'Trip', 'Timestamp(ms)', \n",
    "               'Latitude[deg]', 'Longitude[deg]', \n",
    "               'Vehicle Speed[km/h]', 'MAF[g/sec]', \n",
    "               'Engine RPM[RPM]', 'Absolute Load[%]',\n",
    "               'OAT[DegC]', 'Fuel Rate[L/hr]', \n",
    "               'Air Conditioning Power[kW]', 'Air Conditioning Power[Watts]',\n",
    "               'Heater Power[Watts]', 'HV Battery Current[A]', \n",
    "               'HV Battery SOC[%]', 'HV Battery Voltage[V]',\n",
    "               'Short Term Fuel Trim Bank 1[%]', 'Short Term Fuel Trim Bank 2[%]',\n",
    "               'Long Term Fuel Trim Bank 1[%]', 'Long Term Fuel Trim Bank 2[%]'\n",
    "              ]\n",
    "    types = {'VehId': np.int64,\n",
    "             'Trip': np.int64,\n",
    "             'Timestamp(ms)': np.int64\n",
    "            }\n",
    "    df = pd.read_csv(filename, usecols=columns, dtype=types)\n",
    "    return df"
   ]
  },
  {
   "cell_type": "markdown",
   "metadata": {},
   "source": [
    "Enumerate the CSV files from the expanded data directory."
   ]
  },
  {
   "cell_type": "code",
   "execution_count": 4,
   "metadata": {},
   "outputs": [
    {
     "data": {
      "application/vnd.jupyter.widget-view+json": {
       "model_id": "61c0272772f24c67b7b1ad1f425b6e33",
       "version_major": 2,
       "version_minor": 0
      },
      "text/plain": [
       "HBox(children=(FloatProgress(value=0.0, max=55.0), HTML(value='')))"
      ]
     },
     "metadata": {},
     "output_type": "display_data"
    },
    {
     "name": "stdout",
     "output_type": "stream",
     "text": [
      "\n"
     ]
    }
   ],
   "source": [
    "files = [os.path.join(data_path, file) for file in tqdm(os.listdir(data_path)) if file.endswith(\".csv\")]"
   ]
  },
  {
   "cell_type": "markdown",
   "metadata": {},
   "source": [
    "Create a `VedDb` object. This is the API to interface with the SQLite database."
   ]
  },
  {
   "cell_type": "code",
   "execution_count": 5,
   "metadata": {},
   "outputs": [],
   "source": [
    "db = VedDb()"
   ]
  },
  {
   "cell_type": "markdown",
   "metadata": {},
   "source": [
    "Iterate through the data files, import them into a Pandas DataFrame and then insert the signals into the database. Note that the signals are bulk-inserted, so the DataFrame is actually converted to a list of tuples."
   ]
  },
  {
   "cell_type": "code",
   "execution_count": 6,
   "metadata": {},
   "outputs": [
    {
     "data": {
      "application/vnd.jupyter.widget-view+json": {
       "model_id": "d621973b851f4b2bbda9ca793f49f5f2",
       "version_major": 2,
       "version_minor": 0
      },
      "text/plain": [
       "HBox(children=(FloatProgress(value=0.0, max=54.0), HTML(value='')))"
      ]
     },
     "metadata": {},
     "output_type": "display_data"
    },
    {
     "name": "stdout",
     "output_type": "stream",
     "text": [
      "\n"
     ]
    }
   ],
   "source": [
    "for file in tqdm(files):\n",
    "    df = read_data_frame(file)\n",
    "    \n",
    "    signals = []\n",
    "    for row in df.itertuples(index=False):\n",
    "        signals.append(row)\n",
    "        \n",
    "    db.insert_signals(signals)"
   ]
  },
  {
   "cell_type": "markdown",
   "metadata": {},
   "source": [
    "Now we can load the static data from the ICE & HEV vehicles."
   ]
  },
  {
   "cell_type": "code",
   "execution_count": 7,
   "metadata": {},
   "outputs": [],
   "source": [
    "df_ice_hev = pd.read_excel(\"./ved/Data/VED_Static_Data_ICE&HEV.xlsx\").replace('NO DATA', np.nan)"
   ]
  },
  {
   "cell_type": "code",
   "execution_count": 8,
   "metadata": {},
   "outputs": [
    {
     "data": {
      "text/html": [
       "<div>\n",
       "<style scoped>\n",
       "    .dataframe tbody tr th:only-of-type {\n",
       "        vertical-align: middle;\n",
       "    }\n",
       "\n",
       "    .dataframe tbody tr th {\n",
       "        vertical-align: top;\n",
       "    }\n",
       "\n",
       "    .dataframe thead th {\n",
       "        text-align: right;\n",
       "    }\n",
       "</style>\n",
       "<table border=\"1\" class=\"dataframe\">\n",
       "  <thead>\n",
       "    <tr style=\"text-align: right;\">\n",
       "      <th></th>\n",
       "      <th>VehId</th>\n",
       "      <th>Vehicle Type</th>\n",
       "      <th>Vehicle Class</th>\n",
       "      <th>Engine Configuration &amp; Displacement</th>\n",
       "      <th>Transmission</th>\n",
       "      <th>Drive Wheels</th>\n",
       "      <th>Generalized_Weight</th>\n",
       "    </tr>\n",
       "  </thead>\n",
       "  <tbody>\n",
       "    <tr>\n",
       "      <th>0</th>\n",
       "      <td>2</td>\n",
       "      <td>ICE</td>\n",
       "      <td>Car</td>\n",
       "      <td>4-FI 2.0L T/C</td>\n",
       "      <td>NaN</td>\n",
       "      <td>NaN</td>\n",
       "      <td>3500.0</td>\n",
       "    </tr>\n",
       "    <tr>\n",
       "      <th>1</th>\n",
       "      <td>5</td>\n",
       "      <td>HEV</td>\n",
       "      <td>Car</td>\n",
       "      <td>4-GAS/ELECTRIC 2.0L</td>\n",
       "      <td>NaN</td>\n",
       "      <td>NaN</td>\n",
       "      <td>3500.0</td>\n",
       "    </tr>\n",
       "    <tr>\n",
       "      <th>2</th>\n",
       "      <td>7</td>\n",
       "      <td>ICE</td>\n",
       "      <td>SUV</td>\n",
       "      <td>6-FI 3.6L</td>\n",
       "      <td>AUTOMATIC</td>\n",
       "      <td>NaN</td>\n",
       "      <td>4500.0</td>\n",
       "    </tr>\n",
       "    <tr>\n",
       "      <th>3</th>\n",
       "      <td>8</td>\n",
       "      <td>ICE</td>\n",
       "      <td>Car</td>\n",
       "      <td>4-FI 1.5L</td>\n",
       "      <td>5-SP MANUAL</td>\n",
       "      <td>NaN</td>\n",
       "      <td>2500.0</td>\n",
       "    </tr>\n",
       "    <tr>\n",
       "      <th>4</th>\n",
       "      <td>12</td>\n",
       "      <td>ICE</td>\n",
       "      <td>Car</td>\n",
       "      <td>4-FI 1.8L</td>\n",
       "      <td>NaN</td>\n",
       "      <td>NaN</td>\n",
       "      <td>2500.0</td>\n",
       "    </tr>\n",
       "  </tbody>\n",
       "</table>\n",
       "</div>"
      ],
      "text/plain": [
       "   VehId Vehicle Type Vehicle Class Engine Configuration & Displacement  \\\n",
       "0      2          ICE           Car                       4-FI 2.0L T/C   \n",
       "1      5          HEV           Car                 4-GAS/ELECTRIC 2.0L   \n",
       "2      7          ICE           SUV                           6-FI 3.6L   \n",
       "3      8          ICE           Car                           4-FI 1.5L   \n",
       "4     12          ICE           Car                           4-FI 1.8L   \n",
       "\n",
       "  Transmission  Drive Wheels  Generalized_Weight  \n",
       "0          NaN           NaN              3500.0  \n",
       "1          NaN           NaN              3500.0  \n",
       "2    AUTOMATIC           NaN              4500.0  \n",
       "3  5-SP MANUAL           NaN              2500.0  \n",
       "4          NaN           NaN              2500.0  "
      ]
     },
     "execution_count": 8,
     "metadata": {},
     "output_type": "execute_result"
    }
   ],
   "source": [
    "df_ice_hev.head()"
   ]
  },
  {
   "cell_type": "markdown",
   "metadata": {},
   "source": [
    "We follow by reading the PHEV and EV static data."
   ]
  },
  {
   "cell_type": "code",
   "execution_count": 9,
   "metadata": {},
   "outputs": [],
   "source": [
    "df_phev_ev = pd.read_excel(\"./ved/Data/VED_Static_Data_PHEV&EV.xlsx\").replace('NO DATA', np.nan)"
   ]
  },
  {
   "cell_type": "code",
   "execution_count": 10,
   "metadata": {},
   "outputs": [
    {
     "data": {
      "text/html": [
       "<div>\n",
       "<style scoped>\n",
       "    .dataframe tbody tr th:only-of-type {\n",
       "        vertical-align: middle;\n",
       "    }\n",
       "\n",
       "    .dataframe tbody tr th {\n",
       "        vertical-align: top;\n",
       "    }\n",
       "\n",
       "    .dataframe thead th {\n",
       "        text-align: right;\n",
       "    }\n",
       "</style>\n",
       "<table border=\"1\" class=\"dataframe\">\n",
       "  <thead>\n",
       "    <tr style=\"text-align: right;\">\n",
       "      <th></th>\n",
       "      <th>VehId</th>\n",
       "      <th>EngineType</th>\n",
       "      <th>Vehicle Class</th>\n",
       "      <th>Engine Configuration &amp; Displacement</th>\n",
       "      <th>Transmission</th>\n",
       "      <th>Drive Wheels</th>\n",
       "      <th>Generalized_Weight</th>\n",
       "    </tr>\n",
       "  </thead>\n",
       "  <tbody>\n",
       "    <tr>\n",
       "      <th>0</th>\n",
       "      <td>9</td>\n",
       "      <td>PHEV</td>\n",
       "      <td>Car</td>\n",
       "      <td>4-GAS/ELECTRIC 1.4L</td>\n",
       "      <td>NaN</td>\n",
       "      <td>FWD</td>\n",
       "      <td>4000</td>\n",
       "    </tr>\n",
       "    <tr>\n",
       "      <th>1</th>\n",
       "      <td>10</td>\n",
       "      <td>EV</td>\n",
       "      <td>Car</td>\n",
       "      <td>ELECTRIC</td>\n",
       "      <td>NaN</td>\n",
       "      <td>FWD</td>\n",
       "      <td>3500</td>\n",
       "    </tr>\n",
       "    <tr>\n",
       "      <th>2</th>\n",
       "      <td>11</td>\n",
       "      <td>PHEV</td>\n",
       "      <td>Car</td>\n",
       "      <td>4-GAS/ELECTRIC 2.0L</td>\n",
       "      <td>CVT</td>\n",
       "      <td>FWD</td>\n",
       "      <td>4000</td>\n",
       "    </tr>\n",
       "    <tr>\n",
       "      <th>3</th>\n",
       "      <td>371</td>\n",
       "      <td>PHEV</td>\n",
       "      <td>Car</td>\n",
       "      <td>4-GAS/ELECTRIC 2.0L</td>\n",
       "      <td>CVT</td>\n",
       "      <td>FWD</td>\n",
       "      <td>4000</td>\n",
       "    </tr>\n",
       "    <tr>\n",
       "      <th>4</th>\n",
       "      <td>379</td>\n",
       "      <td>PHEV</td>\n",
       "      <td>Car</td>\n",
       "      <td>4-GAS/ELECTRIC 1.4L</td>\n",
       "      <td>NaN</td>\n",
       "      <td>FWD</td>\n",
       "      <td>4000</td>\n",
       "    </tr>\n",
       "  </tbody>\n",
       "</table>\n",
       "</div>"
      ],
      "text/plain": [
       "   VehId EngineType Vehicle Class Engine Configuration & Displacement  \\\n",
       "0      9       PHEV           Car                 4-GAS/ELECTRIC 1.4L   \n",
       "1     10         EV           Car                            ELECTRIC   \n",
       "2     11       PHEV           Car                 4-GAS/ELECTRIC 2.0L   \n",
       "3    371       PHEV           Car                 4-GAS/ELECTRIC 2.0L   \n",
       "4    379       PHEV           Car                 4-GAS/ELECTRIC 1.4L   \n",
       "\n",
       "  Transmission Drive Wheels  Generalized_Weight  \n",
       "0          NaN          FWD                4000  \n",
       "1          NaN          FWD                3500  \n",
       "2          CVT          FWD                4000  \n",
       "3          CVT          FWD                4000  \n",
       "4          NaN          FWD                4000  "
      ]
     },
     "execution_count": 10,
     "metadata": {},
     "output_type": "execute_result"
    }
   ],
   "source": [
    "df_phev_ev.head()"
   ]
  },
  {
   "cell_type": "markdown",
   "metadata": {},
   "source": [
    "Next, we collect all vehicle definitions in one list and bulk insert it into the database."
   ]
  },
  {
   "cell_type": "code",
   "execution_count": 12,
   "metadata": {},
   "outputs": [],
   "source": [
    "vehicles = []\n",
    "\n",
    "for row in df_ice_hev.itertuples(index=False):\n",
    "    vehicles.append(row)\n",
    "for row in df_phev_ev.itertuples(index=False):\n",
    "    vehicles.append(row)\n",
    "    \n",
    "db.insert_vehicles(vehicles)"
   ]
  },
  {
   "cell_type": "markdown",
   "metadata": {},
   "source": [
    "This creates the first image of the database. In subsequent notebooks we will use it to further analyse the data and derive some (hopefully) interesting models."
   ]
  },
  {
   "cell_type": "code",
   "execution_count": null,
   "metadata": {},
   "outputs": [],
   "source": []
  },
  {
   "cell_type": "code",
   "execution_count": 13,
   "metadata": {},
   "outputs": [],
   "source": [
    "db.generate_moves()"
   ]
  },
  {
   "cell_type": "code",
   "execution_count": null,
   "metadata": {},
   "outputs": [],
   "source": []
  }
 ],
 "metadata": {
  "kernelspec": {
   "display_name": "Python 3",
   "language": "python",
   "name": "python3"
  },
  "language_info": {
   "codemirror_mode": {
    "name": "ipython",
    "version": 3
   },
   "file_extension": ".py",
   "mimetype": "text/x-python",
   "name": "python",
   "nbconvert_exporter": "python",
   "pygments_lexer": "ipython3",
   "version": "3.8.2"
  }
 },
 "nbformat": 4,
 "nbformat_minor": 4
}
