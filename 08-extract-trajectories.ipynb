{
 "cells": [
  {
   "cell_type": "markdown",
   "metadata": {},
   "source": [
    "# 8-Trajectory Extraction\n",
    "\n",
    "Use this notebook to extract trajectories like the ones used in the [Fast Discrete Fréchet Distance](https://towardsdatascience.com/fast-discrete-fr%C3%A9chet-distance-d6b422a8fb77?source=friends_link&sk=5bb0e2c3ed8e8c30df0dca18c3478f97) article."
   ]
  },
  {
   "cell_type": "code",
   "execution_count": null,
   "metadata": {},
   "outputs": [],
   "source": [
    "import numpy as np\n",
    "import pandas as pd\n",
    "\n",
    "from sqlapi import VedDb"
   ]
  },
  {
   "cell_type": "code",
   "execution_count": null,
   "metadata": {},
   "outputs": [],
   "source": []
  },
  {
   "cell_type": "code",
   "execution_count": null,
   "metadata": {},
   "outputs": [],
   "source": [
    "db = VedDb()"
   ]
  },
  {
   "cell_type": "code",
   "execution_count": null,
   "metadata": {},
   "outputs": [],
   "source": []
  },
  {
   "cell_type": "code",
   "execution_count": null,
   "metadata": {},
   "outputs": [],
   "source": [
    "def get_trajectory(cluster_ini, cluster_end, traj_num):\n",
    "    sql = \"\"\"\n",
    "    select   vehicle_id\n",
    "    ,        day_num\n",
    "    ,        ts_ini\n",
    "    ,        ts_end\n",
    "    from     move\n",
    "    where    cluster_ini = ? and cluster_end = ?;\"\"\"\n",
    "    t = db.query(sql, (cluster_ini, cluster_end))[traj_num]\n",
    "    \n",
    "    sql = \"\"\"\n",
    "    select   signal_id\n",
    "    ,        time_stamp\n",
    "    ,        latitude\n",
    "    ,        longitude\n",
    "    ,        speed\n",
    "    ,        rpm\n",
    "    from     signal\n",
    "    where    vehicle_id = ? and day_num = ? and time_stamp <= ?\n",
    "    \"\"\"\n",
    "    return db.query_df(sql, parameters=[t[0], t[1], t[3]]).drop_duplicates(subset=[\"latitude\", \"longitude\"])"
   ]
  },
  {
   "cell_type": "code",
   "execution_count": null,
   "metadata": {},
   "outputs": [],
   "source": [
    "get_trajectory(3, 6, 14)[['latitude', 'longitude']].to_numpy()"
   ]
  },
  {
   "cell_type": "code",
   "execution_count": null,
   "metadata": {},
   "outputs": [],
   "source": []
  },
  {
   "cell_type": "code",
   "execution_count": null,
   "metadata": {},
   "outputs": [],
   "source": [
    "sql = \"\"\"\n",
    "select   vehicle_id\n",
    ",        day_num\n",
    ",        ts_ini\n",
    ",        ts_end\n",
    "from     move\n",
    "where    cluster_ini = 1 and cluster_end = 127;\"\"\"\n",
    "db.query(sql)"
   ]
  },
  {
   "cell_type": "code",
   "execution_count": null,
   "metadata": {},
   "outputs": [],
   "source": [
    "sql = \"\"\"\n",
    "select   signal_id\n",
    ",        time_stamp\n",
    ",        latitude\n",
    ",        longitude\n",
    ",        speed\n",
    ",        rpm\n",
    "from     signal\n",
    "where    vehicle_id = 413 and day_num = 6.86927124074 and time_stamp <= 557600;\n",
    "\"\"\"\n",
    "traj_df = db.query_df(sql).drop_duplicates(subset=[\"latitude\", \"longitude\"])"
   ]
  },
  {
   "cell_type": "code",
   "execution_count": null,
   "metadata": {},
   "outputs": [],
   "source": [
    "traj_df.head()"
   ]
  },
  {
   "cell_type": "code",
   "execution_count": null,
   "metadata": {},
   "outputs": [],
   "source": [
    "traj_df.shape"
   ]
  },
  {
   "cell_type": "code",
   "execution_count": null,
   "metadata": {},
   "outputs": [],
   "source": [
    "sql = \"\"\"\n",
    "select   signal_id\n",
    ",        time_stamp\n",
    ",        latitude\n",
    ",        longitude\n",
    ",        speed\n",
    ",        rpm\n",
    "from     signal\n",
    "where    vehicle_id = 565 and day_num = 16.8420054167 and time_stamp <= 434700;\n",
    "\"\"\"\n",
    "traj1_df = db.query_df(sql).drop_duplicates(subset=[\"latitude\", \"longitude\"])"
   ]
  },
  {
   "cell_type": "code",
   "execution_count": null,
   "metadata": {},
   "outputs": [],
   "source": [
    "traj1_df"
   ]
  },
  {
   "cell_type": "code",
   "execution_count": null,
   "metadata": {},
   "outputs": [],
   "source": []
  }
 ],
 "metadata": {
  "kernelspec": {
   "display_name": "Python 3",
   "language": "python",
   "name": "python3"
  },
  "language_info": {
   "codemirror_mode": {
    "name": "ipython",
    "version": 3
   },
   "file_extension": ".py",
   "mimetype": "text/x-python",
   "name": "python",
   "nbconvert_exporter": "python",
   "pygments_lexer": "ipython3",
   "version": "3.8.2"
  }
 },
 "nbformat": 4,
 "nbformat_minor": 4
}
