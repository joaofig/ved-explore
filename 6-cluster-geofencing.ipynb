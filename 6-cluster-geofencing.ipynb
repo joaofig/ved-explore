{
 "cells": [
  {
   "cell_type": "markdown",
   "metadata": {},
   "source": [
    "# 6-Cluster Geofencing\n",
    "\n",
    "In this notebook we use the results from the previous one to display the geographic clusters on a map, using the H3 package.\n",
    "\n",
    "**Requirements:**\n",
    "\n",
    "- Please run the `5-clustering-hdbscan.ipynb` notebook first and its dependencies.\n",
    "- Recommended install: [ipywidgets](https://ipywidgets.readthedocs.io/en/stable/user_install.html). Enable using `jupyter nbextension enable --py widgetsnbextension --sys-prefix` for Jupyter Notebook and `jupyter labextension install @jupyter-widgets/jupyterlab-manager` for Jupyter Lab."
   ]
  },
  {
   "cell_type": "code",
   "execution_count": 42,
   "metadata": {},
   "outputs": [],
   "source": [
    "import numpy as np\n",
    "import folium\n",
    "import ipywidgets as widgets\n",
    "import networkx as nx\n",
    "\n",
    "from folium.vector_layers import PolyLine\n",
    "from sqlapi import VedDb\n",
    "from h3 import h3\n",
    "from shapely.geometry import Polygon\n",
    "from shapely.ops import cascaded_union\n",
    "from ipywidgets import interact\n",
    "from tqdm.auto import tqdm"
   ]
  },
  {
   "cell_type": "markdown",
   "metadata": {},
   "source": [
    "Create an object of the `VedDB` type to interface with the database."
   ]
  },
  {
   "cell_type": "code",
   "execution_count": 2,
   "metadata": {},
   "outputs": [],
   "source": [
    "db = VedDb()"
   ]
  },
  {
   "cell_type": "markdown",
   "metadata": {},
   "source": [
    "To illustrate the process of retrieval of an endpoint's hexagons, let's run a simple query to return all the H3 codes for cluster number 23."
   ]
  },
  {
   "cell_type": "code",
   "execution_count": 3,
   "metadata": {},
   "outputs": [],
   "source": [
    "def get_cluster_hexes(cluster_id):\n",
    "    sql = \"select h3 from cluster_point where cluster_id = ?\"\n",
    "    hexes = list({h[0] for h in db.query(sql, [cluster_id])})\n",
    "    return hexes"
   ]
  },
  {
   "cell_type": "code",
   "execution_count": 4,
   "metadata": {},
   "outputs": [
    {
     "data": {
      "text/plain": [
       "['8c2ab259ba643ff',\n",
       " '8c2ab259bb4a9ff',\n",
       " '8c2ab259ba649ff',\n",
       " '8c2ab259bb487ff',\n",
       " '8c2ab259bb497ff',\n",
       " '8c2ab259ba601ff',\n",
       " '8c2ab259ba651ff',\n",
       " '8c2ab259ba65bff',\n",
       " '8c2ab259ba645ff',\n",
       " '8c2ab259bb4b5ff',\n",
       " '8c2ab259bb4bbff',\n",
       " '8c2ab259ba655ff',\n",
       " '8c2ab25996969ff',\n",
       " '8c2ab259bb4b9ff',\n",
       " '8c2ab259bb4a3ff',\n",
       " '8c2ab259bb495ff',\n",
       " '8c2ab259ba657ff',\n",
       " '8c2ab259ba647ff',\n",
       " '8c2ab259ba629ff',\n",
       " '8c2ab259ba65dff',\n",
       " '8c2ab259bb485ff',\n",
       " '8c2ab259bb481ff',\n",
       " '8c2ab259ba659ff',\n",
       " '8c2ab259bb4b3ff',\n",
       " '8c2ab259bb4abff',\n",
       " '8c2ab25996967ff',\n",
       " '8c2ab2599696dff',\n",
       " '8c2ab259bb4a1ff',\n",
       " '8c2ab259ba64bff',\n",
       " '8c2ab259ba60dff',\n",
       " '8c2ab25996965ff',\n",
       " '8c2ab259bb4a7ff',\n",
       " '8c2ab259ba60bff',\n",
       " '8c2ab259ba609ff',\n",
       " '8c2ab259ba605ff',\n",
       " '8c2ab259ba663ff',\n",
       " '8c2ab259ba653ff',\n",
       " '8c2ab259bb4b7ff',\n",
       " '8c2ab259ba66bff',\n",
       " '8c2ab259ba661ff',\n",
       " '8c2ab25996961ff',\n",
       " '8c2ab259ba667ff',\n",
       " '8c2ab259ba641ff',\n",
       " '8c2ab259bb4bdff',\n",
       " '8c2ab259bb4b1ff']"
      ]
     },
     "execution_count": 4,
     "metadata": {},
     "output_type": "execute_result"
    }
   ],
   "source": [
    "hexes = get_cluster_hexes(23)\n",
    "hexes"
   ]
  },
  {
   "cell_type": "markdown",
   "metadata": {},
   "source": [
    "The code above uses a Python `set` comprehension in order to retrieve the unique H3 codes. As you probably guessed, it is very likely to find overlapping H3 hexagons in the same cluster, and using a `set` eliminates repetitions.\n",
    "\n",
    "To convert an H3 code into a map object, we must first expand it into a set of six geo locations using the `h3_to_geo_boundary` function."
   ]
  },
  {
   "cell_type": "code",
   "execution_count": 5,
   "metadata": {},
   "outputs": [],
   "source": [
    "h = hexes[0]"
   ]
  },
  {
   "cell_type": "markdown",
   "metadata": {},
   "source": [
    "The `get_hexagon` converts an H3 index into the corresponding hexagon vertices' geographic coordinates. Note how we copy the first coordinate to the back of the list in order to _close_ the polygon."
   ]
  },
  {
   "cell_type": "code",
   "execution_count": 6,
   "metadata": {},
   "outputs": [],
   "source": [
    "def get_hexagon(h):\n",
    "    geo_lst = [p for p in h3.h3_to_geo_boundary(h)]\n",
    "    geo_lst.append(geo_lst[0])\n",
    "    return np.array(geo_lst)"
   ]
  },
  {
   "cell_type": "markdown",
   "metadata": {},
   "source": [
    "Let's see how the function works."
   ]
  },
  {
   "cell_type": "code",
   "execution_count": 7,
   "metadata": {},
   "outputs": [
    {
     "data": {
      "text/plain": [
       "array([[ 42.23077143, -83.6804412 ],\n",
       "       [ 42.23073858, -83.68056938],\n",
       "       [ 42.23064348, -83.68059101],\n",
       "       [ 42.23058122, -83.68048445],\n",
       "       [ 42.23061406, -83.68035627],\n",
       "       [ 42.23070917, -83.68033465],\n",
       "       [ 42.23077143, -83.6804412 ]])"
      ]
     },
     "execution_count": 7,
     "metadata": {},
     "output_type": "execute_result"
    }
   ],
   "source": [
    "hexagon = get_hexagon(h)\n",
    "hexagon"
   ]
  },
  {
   "cell_type": "markdown",
   "metadata": {},
   "source": [
    "## Display the Hexagon on the Map\n",
    "\n",
    "To display the hexagon on a map, we use code that is similar to the one we used in notebook number 4 to display a trip.\n",
    "\n",
    "Let's start by declaring the map object."
   ]
  },
  {
   "cell_type": "code",
   "execution_count": 8,
   "metadata": {},
   "outputs": [],
   "source": [
    "map = folium.Map(prefer_canvas=True, tiles=\"cartodbpositron\")"
   ]
  },
  {
   "cell_type": "markdown",
   "metadata": {},
   "source": [
    "Determine the shape's bounding box and fit the map view to it."
   ]
  },
  {
   "cell_type": "code",
   "execution_count": 9,
   "metadata": {},
   "outputs": [],
   "source": [
    "min_lat, max_lat = hexagon[:, 0].min(), hexagon[:, 0].max()\n",
    "min_lon, max_lon = hexagon[:, 1].min(), hexagon[:, 1].max()\n",
    "map.fit_bounds([[min_lat, min_lon], [max_lat, max_lon]])"
   ]
  },
  {
   "cell_type": "markdown",
   "metadata": {},
   "source": [
    "Now, we create a `PolyLine` object and place it on the map."
   ]
  },
  {
   "cell_type": "code",
   "execution_count": 10,
   "metadata": {},
   "outputs": [],
   "source": [
    "color = '#3388ff'\n",
    "opacity = 0.7\n",
    "polyline = PolyLine(hexagon, color=color, opacity=opacity, fill=color)\n",
    "p = polyline.add_to(map)"
   ]
  },
  {
   "cell_type": "code",
   "execution_count": 11,
   "metadata": {},
   "outputs": [
    {
     "data": {
      "text/html": [
       "<div style=\"width:100%;\"><div style=\"position:relative;width:100%;height:0;padding-bottom:60%;\"><span style=\"color:#565656\">Make this Notebook Trusted to load map: File -> Trust Notebook</span><iframe src=\"about:blank\" style=\"position:absolute;width:100%;height:100%;left:0;top:0;border:none !important;\" data-html=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 onload=\"this.contentDocument.open();this.contentDocument.write(atob(this.getAttribute('data-html')));this.contentDocument.close();\" allowfullscreen webkitallowfullscreen mozallowfullscreen></iframe></div></div>"
      ],
      "text/plain": [
       "<folium.folium.Map at 0x7f903839fe50>"
      ]
     },
     "execution_count": 11,
     "metadata": {},
     "output_type": "execute_result"
    }
   ],
   "source": [
    "map"
   ]
  },
  {
   "cell_type": "markdown",
   "metadata": {},
   "source": [
    "## Display the Cluster on the Map\n",
    "\n",
    "We can now extend the code to the whole cluster and display all the hexagons side-by side."
   ]
  },
  {
   "cell_type": "code",
   "execution_count": 12,
   "metadata": {},
   "outputs": [
    {
     "data": {
      "text/html": [
       "<div style=\"width:100%;\"><div style=\"position:relative;width:100%;height:0;padding-bottom:60%;\"><span style=\"color:#565656\">Make this Notebook Trusted to load map: File -> Trust Notebook</span><iframe src=\"about:blank\" style=\"position:absolute;width:100%;height:100%;left:0;top:0;border:none !important;\" data-html=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 onload=\"this.contentDocument.open();this.contentDocument.write(atob(this.getAttribute('data-html')));this.contentDocument.close();\" allowfullscreen webkitallowfullscreen mozallowfullscreen></iframe></div></div>"
      ],
      "text/plain": [
       "<folium.folium.Map at 0x7f905250bbd0>"
      ]
     },
     "execution_count": 12,
     "metadata": {},
     "output_type": "execute_result"
    }
   ],
   "source": [
    "html_map = folium.Map(prefer_canvas=True, tiles=\"cartodbpositron\")\n",
    "\n",
    "bb_list = []  # List for the bounding-box calculation\n",
    "\n",
    "for h in hexes:\n",
    "    hexagon = get_hexagon(h)\n",
    "    bb_list.extend(hexagon.tolist())\n",
    "    polyline = PolyLine(hexagon, color=color, opacity=opacity, fill=color)\n",
    "    p = polyline.add_to(map)\n",
    "    \n",
    "locations = np.array(bb_list)\n",
    "min_lat, max_lat = locations[:, 0].min(), locations[:, 0].max()\n",
    "min_lon, max_lon = locations[:, 1].min(), locations[:, 1].max()\n",
    "html_map.fit_bounds([[min_lat, min_lon], [max_lat, max_lon]])\n",
    "html_map"
   ]
  },
  {
   "cell_type": "markdown",
   "metadata": {},
   "source": [
    "But we can still do better: how about only displaying the cluster outline? We can do so by merging all the hexagons together using Shapely's `Polygon` object and the `cascaded_union` function. The idea is to model each hexagon as a `Polygon` and then merge them into a single map polygon."
   ]
  },
  {
   "cell_type": "code",
   "execution_count": 13,
   "metadata": {},
   "outputs": [],
   "source": [
    "def create_map_polygon(xy, tooltip='',\n",
    "                       color='#3388ff',\n",
    "                       opacity=0.7,\n",
    "                       fill_color='#3388ff',\n",
    "                       fill_opacity=0.4, \n",
    "                       weight=3):\n",
    "    points = [[x[0], x[1]] for x in xy]\n",
    "    polygon = folium.vector_layers.Polygon(locations=points,\n",
    "                                           tooltip=tooltip,\n",
    "                                           fill=True,\n",
    "                                           color=color,\n",
    "                                           fill_color=fill_color,\n",
    "                                           fill_opacity=fill_opacity,\n",
    "                                           weight=weight,\n",
    "                                           opacity=opacity)\n",
    "    return polygon"
   ]
  },
  {
   "cell_type": "markdown",
   "metadata": {},
   "source": [
    "Start by creating the map with the whitewashed tiles."
   ]
  },
  {
   "cell_type": "code",
   "execution_count": 14,
   "metadata": {},
   "outputs": [],
   "source": [
    "html_map = folium.Map(prefer_canvas=True, tiles=\"cartodbpositron\")"
   ]
  },
  {
   "cell_type": "markdown",
   "metadata": {},
   "source": [
    "Now, generate the H3 hexagons and convert them into Shapely `Polygon`s."
   ]
  },
  {
   "cell_type": "code",
   "execution_count": 15,
   "metadata": {},
   "outputs": [],
   "source": [
    "bb_list = []  # List for the bounding-box calculation\n",
    "polygons = []\n",
    "for h in hexes:\n",
    "    points = get_hexagon(h)\n",
    "    xy = [[x[1], x[0]] for x in points]\n",
    "    xy.append([points[0][1], points[0][0]])\n",
    "    polygons.append(Polygon(xy))\n",
    "    bb_list.extend(points)"
   ]
  },
  {
   "cell_type": "markdown",
   "metadata": {},
   "source": [
    "With a single call to `cascaded_union`, we merge all the `Polygon` objects into a single one that we can conveniently plot on the map. Note that by converting all hexagons into a single polygon, we are not only making the display cleaner, but we are also reducing the amount of redundant points used to define the shape. If you decide to store the shape on a database, this will prove extremely useful."
   ]
  },
  {
   "cell_type": "code",
   "execution_count": 16,
   "metadata": {},
   "outputs": [],
   "source": [
    "merged = cascaded_union(polygons)"
   ]
  },
  {
   "cell_type": "markdown",
   "metadata": {},
   "source": [
    "The polygon merge operation may have created a complex polygonal shape with \"holes\". To gracefully handle this situation, we must check if the generated object is a simple `Polygon` or a `MultiPolygon`. The former case is simple to handle, but for the latter we simply use the largest one."
   ]
  },
  {
   "cell_type": "code",
   "execution_count": 17,
   "metadata": {},
   "outputs": [],
   "source": [
    "if merged.geom_type == \"MultiPolygon\":\n",
    "    max_len = 0\n",
    "    largest = None\n",
    "    for geom in merged.geoms:\n",
    "        xy = geom.exterior.coords.xy\n",
    "        lxy = list(zip(xy[1], xy[0]))\n",
    "\n",
    "#         if len(lxy) > max_len:\n",
    "#             max_len = len(lxy)\n",
    "#             largest = lxy\n",
    "\n",
    "        create_map_polygon(lxy).add_to(html_map)\n",
    "elif merged.geom_type == \"Polygon\":\n",
    "    xy = merged.exterior.coords.xy\n",
    "    lxy = list(zip(xy[1], xy[0]))\n",
    "\n",
    "    create_map_polygon(lxy).add_to(html_map)"
   ]
  },
  {
   "cell_type": "markdown",
   "metadata": {},
   "source": [
    "We can now fit the shape boundaries to the map and display it."
   ]
  },
  {
   "cell_type": "code",
   "execution_count": 18,
   "metadata": {},
   "outputs": [
    {
     "data": {
      "text/html": [
       "<div style=\"width:100%;\"><div style=\"position:relative;width:100%;height:0;padding-bottom:60%;\"><span style=\"color:#565656\">Make this Notebook Trusted to load map: File -> Trust Notebook</span><iframe src=\"about:blank\" style=\"position:absolute;width:100%;height:100%;left:0;top:0;border:none !important;\" data-html=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 onload=\"this.contentDocument.open();this.contentDocument.write(atob(this.getAttribute('data-html')));this.contentDocument.close();\" allowfullscreen webkitallowfullscreen mozallowfullscreen></iframe></div></div>"
      ],
      "text/plain": [
       "<folium.folium.Map at 0x7f903839f550>"
      ]
     },
     "execution_count": 18,
     "metadata": {},
     "output_type": "execute_result"
    }
   ],
   "source": [
    "locations = np.array(bb_list)\n",
    "min_lat, max_lat = locations[:, 0].min(), locations[:, 0].max()\n",
    "min_lon, max_lon = locations[:, 1].min(), locations[:, 1].max()\n",
    "html_map.fit_bounds([[min_lat, min_lon], [max_lat, max_lon]])\n",
    "html_map"
   ]
  },
  {
   "cell_type": "markdown",
   "metadata": {},
   "source": [
    "If you hover the mouse cursor over the shape you will see an empty tooltip. This feature would be interesting to use should we be able to automatically name these clusters, using real street name information. This is the challenge for the next notebook.\n",
    "\n",
    "Meanwhile, let's check the quality of the generated polygons."
   ]
  },
  {
   "cell_type": "markdown",
   "metadata": {},
   "source": [
    "## Interactive Cluster Exploration\n"
   ]
  },
  {
   "cell_type": "code",
   "execution_count": 19,
   "metadata": {},
   "outputs": [],
   "source": [
    "def show_geofence_map(cluster_id):\n",
    "    html_map = folium.Map(prefer_canvas=True, tiles=\"cartodbpositron\")\n",
    "    bb_list = []  # List for the bounding-box calculation\n",
    "    polygons = []\n",
    "    hexes = get_cluster_hexes(cluster_id)\n",
    "    for h in hexes:\n",
    "        points = get_hexagon(h)\n",
    "        xy = [[x[1], x[0]] for x in points]\n",
    "        xy.append([points[0][1], points[0][0]])\n",
    "        polygons.append(Polygon(xy))\n",
    "        bb_list.extend(points)\n",
    "        \n",
    "    merged = cascaded_union(polygons)\n",
    "    \n",
    "    if merged.geom_type == \"MultiPolygon\":\n",
    "        max_len = 0\n",
    "        largest = None\n",
    "        for geom in merged.geoms:\n",
    "            xy = geom.exterior.coords.xy\n",
    "            lxy = list(zip(xy[1], xy[0]))\n",
    "            create_map_polygon(lxy).add_to(html_map)\n",
    "    elif merged.geom_type == \"Polygon\":\n",
    "        xy = merged.exterior.coords.xy\n",
    "        lxy = list(zip(xy[1], xy[0]))\n",
    "\n",
    "        create_map_polygon(lxy).add_to(html_map)\n",
    "        \n",
    "    locations = np.array(bb_list)\n",
    "    min_lat, max_lat = locations[:, 0].min(), locations[:, 0].max()\n",
    "    min_lon, max_lon = locations[:, 1].min(), locations[:, 1].max()\n",
    "    html_map.fit_bounds([[min_lat, min_lon], [max_lat, max_lon]])\n",
    "    return html_map"
   ]
  },
  {
   "cell_type": "code",
   "execution_count": 20,
   "metadata": {},
   "outputs": [],
   "source": [
    "sql = \"select count(distinct cluster_id) from cluster_point\"\n",
    "cluster_count = db.query_scalar(sql)"
   ]
  },
  {
   "cell_type": "code",
   "execution_count": 21,
   "metadata": {},
   "outputs": [
    {
     "data": {
      "text/plain": [
       "290"
      ]
     },
     "execution_count": 21,
     "metadata": {},
     "output_type": "execute_result"
    }
   ],
   "source": [
    "cluster_count"
   ]
  },
  {
   "cell_type": "code",
   "execution_count": 22,
   "metadata": {},
   "outputs": [
    {
     "data": {
      "application/vnd.jupyter.widget-view+json": {
       "model_id": "00aad0dbaf914312b9be505cddf32ecf",
       "version_major": 2,
       "version_minor": 0
      },
      "text/plain": [
       "interactive(children=(IntSlider(value=0, description='cluster_id', max=289), Output()), _dom_classes=('widget-…"
      ]
     },
     "metadata": {},
     "output_type": "display_data"
    }
   ],
   "source": [
    "ii = interact(show_geofence_map, cluster_id=widgets.IntSlider(min=0, max=cluster_count-1, step=1, value=0))"
   ]
  },
  {
   "cell_type": "markdown",
   "metadata": {},
   "source": [
    "It seems that not all clusters are represented by a single shape, and it is not a rare thing. What went wrong here?\n",
    "\n",
    "By selecting a fixed size for the H3 hexagons, we are actually enabling that these gaps show up when a particular set of points strays farther than the hexagon's size. How can we solve this issue? We can either increase the size of the hexagons, or we can be a bit smarter and build _bridges_ between the _islands_. But for that, we need the help from graph theory."
   ]
  },
  {
   "cell_type": "markdown",
   "metadata": {},
   "source": [
    "## Clusters as Networks\n",
    "\n",
    "The idea is to analyze a specific cluster and determine if all the hexagons are neighbors. A network is useful here to determine if there are isolated hexagons. First we create a network using `networkx` and feed it with all the hexagon codes as nodes. Next, for each pair of neighboring hexagons, we declare an edge on the network. Once this is done, we can compute the _connected components_ and use that as a means to connect them back.\n",
    "\n",
    "The function `graph_from_hexes` accepts a list od H3 indexes and build a graph of their neighboring status."
   ]
  },
  {
   "cell_type": "code",
   "execution_count": 23,
   "metadata": {},
   "outputs": [],
   "source": [
    "def graph_from_hexes(hexes):\n",
    "    g = nx.Graph()\n",
    "    for i in range(len(hexes)):\n",
    "        g.add_node(hexes[i])\n",
    "        for j in range(i+1, len(hexes)):\n",
    "            if h3.h3_indexes_are_neighbors(hexes[i], hexes[j]):\n",
    "                g.add_edge(hexes[i], hexes[j])\n",
    "    return g"
   ]
  },
  {
   "cell_type": "markdown",
   "metadata": {},
   "source": [
    "Now, let's build and display the graph for cluster `0`."
   ]
  },
  {
   "cell_type": "code",
   "execution_count": 24,
   "metadata": {},
   "outputs": [
    {
     "data": {
      "image/png": "[encoded data removed]",
      "text/plain": [
       "<Figure size 432x288 with 1 Axes>"
      ]
     },
     "metadata": {},
     "output_type": "display_data"
    }
   ],
   "source": [
    "hexes = get_cluster_hexes(0)\n",
    "g = graph_from_hexes(hexes)\n",
    "nx.draw(g)"
   ]
  },
  {
   "cell_type": "markdown",
   "metadata": {},
   "source": [
    "We can now query how many connected components there are and which ones are they."
   ]
  },
  {
   "cell_type": "code",
   "execution_count": 25,
   "metadata": {},
   "outputs": [
    {
     "data": {
      "text/plain": [
       "2"
      ]
     },
     "execution_count": 25,
     "metadata": {},
     "output_type": "execute_result"
    }
   ],
   "source": [
    "nx.number_connected_components(g)"
   ]
  },
  {
   "cell_type": "code",
   "execution_count": 30,
   "metadata": {},
   "outputs": [
    {
     "data": {
      "text/plain": [
       "[{'8c274994c85a3ff',\n",
       "  '8c274994c85a7ff',\n",
       "  '8c274994c85b1ff',\n",
       "  '8c274994c85b3ff',\n",
       "  '8c274994c85b5ff',\n",
       "  '8c274994c85b7ff',\n",
       "  '8c274994c85bdff',\n",
       "  '8c274994cbb49ff',\n",
       "  '8c274994cbb4bff',\n",
       "  '8c274994cbb51ff',\n",
       "  '8c274994cbb59ff',\n",
       "  '8c274994cbb5bff',\n",
       "  '8c274994cbb5dff'},\n",
       " {'8c274994cbb45ff'}]"
      ]
     },
     "execution_count": 30,
     "metadata": {},
     "output_type": "execute_result"
    }
   ],
   "source": [
    "components = list(nx.connected_components(g))\n",
    "components"
   ]
  },
  {
   "cell_type": "markdown",
   "metadata": {},
   "source": [
    "To make our lives easier, `networkx` reports the connected components as a list of sets. But now we need to build the _bridge_ between the components, and we will use H3 for that. The idea is to use the `h3_line` function and enumerate all possible ways we have to connect the hexagons between the two components. We will keep the smallest line that should, in the best scenarios, have only 3 hexagons, and which is actually a very good early stopping criterion. Note that in some circumstances we might need more hexagons to bridge the gap.\n",
    "\n",
    "Let's see how the function works:"
   ]
  },
  {
   "cell_type": "code",
   "execution_count": 29,
   "metadata": {},
   "outputs": [
    {
     "data": {
      "text/plain": [
       "['8c274994c85a3ff', '8c274994cbb49ff', '8c274994cbb4dff', '8c274994cbb45ff']"
      ]
     },
     "execution_count": 29,
     "metadata": {},
     "output_type": "execute_result"
    }
   ],
   "source": [
    "h3.h3_line('8c274994c85a3ff', '8c274994cbb45ff')"
   ]
  },
  {
   "cell_type": "markdown",
   "metadata": {},
   "source": [
    "Here's the draft of the algorithm below."
   ]
  },
  {
   "cell_type": "code",
   "execution_count": 31,
   "metadata": {},
   "outputs": [],
   "source": [
    "bridges = []\n",
    "for h0 in components[0]:\n",
    "    for h1 in components[1]:\n",
    "        bridge = h3.h3_line(h0, h1)\n",
    "        bridges.append(bridge)"
   ]
  },
  {
   "cell_type": "markdown",
   "metadata": {},
   "source": [
    "We can now inspect the list of possible bridges and there three candidates. Take your pick!"
   ]
  },
  {
   "cell_type": "code",
   "execution_count": 32,
   "metadata": {},
   "outputs": [
    {
     "data": {
      "text/plain": [
       "[['8c274994c85b5ff', '8c274994cbb49ff', '8c274994cbb41ff', '8c274994cbb45ff'],\n",
       " ['8c274994cbb49ff', '8c274994cbb41ff', '8c274994cbb45ff'],\n",
       " ['8c274994c85bdff',\n",
       "  '8c274994c85b5ff',\n",
       "  '8c274994cbb49ff',\n",
       "  '8c274994cbb41ff',\n",
       "  '8c274994cbb45ff'],\n",
       " ['8c274994c85a7ff', '8c274994cbb4dff', '8c274994cbb45ff'],\n",
       " ['8c274994c85b7ff', '8c274994cbb4bff', '8c274994cbb41ff', '8c274994cbb45ff'],\n",
       " ['8c274994cbb5dff', '8c274994cbb43ff', '8c274994cbb41ff', '8c274994cbb45ff'],\n",
       " ['8c274994cbb51ff',\n",
       "  '8c274994cbb55ff',\n",
       "  '8c274994cbb43ff',\n",
       "  '8c274994cbb47ff',\n",
       "  '8c274994cbb45ff'],\n",
       " ['8c274994c85b3ff',\n",
       "  '8c274994c85b7ff',\n",
       "  '8c274994cbb4bff',\n",
       "  '8c274994cbb41ff',\n",
       "  '8c274994cbb45ff'],\n",
       " ['8c274994cbb59ff',\n",
       "  '8c274994cbb5dff',\n",
       "  '8c274994cbb43ff',\n",
       "  '8c274994cbb41ff',\n",
       "  '8c274994cbb45ff'],\n",
       " ['8c274994cbb4bff', '8c274994cbb41ff', '8c274994cbb45ff'],\n",
       " ['8c274994c85a3ff', '8c274994cbb49ff', '8c274994cbb4dff', '8c274994cbb45ff'],\n",
       " ['8c274994c85b1ff',\n",
       "  '8c274994c85b5ff',\n",
       "  '8c274994cbb4bff',\n",
       "  '8c274994cbb41ff',\n",
       "  '8c274994cbb45ff'],\n",
       " ['8c274994cbb5bff',\n",
       "  '8c274994cbb51ff',\n",
       "  '8c274994cbb5dff',\n",
       "  '8c274994cbb43ff',\n",
       "  '8c274994cbb41ff',\n",
       "  '8c274994cbb45ff']]"
      ]
     },
     "execution_count": 32,
     "metadata": {},
     "output_type": "execute_result"
    }
   ],
   "source": [
    "bridges"
   ]
  },
  {
   "cell_type": "markdown",
   "metadata": {},
   "source": [
    "We can ask Python to do the work automatically for us:"
   ]
  },
  {
   "cell_type": "code",
   "execution_count": 34,
   "metadata": {},
   "outputs": [
    {
     "data": {
      "text/plain": [
       "['8c274994cbb49ff', '8c274994cbb41ff', '8c274994cbb45ff']"
      ]
     },
     "execution_count": 34,
     "metadata": {},
     "output_type": "execute_result"
    }
   ],
   "source": [
    "min(bridges, key=lambda v: len(v))"
   ]
  },
  {
   "cell_type": "markdown",
   "metadata": {},
   "source": [
    "As you can see, both the first and last elements of the list already belong to the connected components. To patch up the cluster geofence, we just need the middle H3 index, and add it to the cluster.\n",
    "\n",
    "Below, we automate the process for all clusters by adding the missing hexagons to the clusters, not forgetting to store them in the database."
   ]
  },
  {
   "cell_type": "code",
   "execution_count": 40,
   "metadata": {},
   "outputs": [],
   "source": [
    "def get_bridge(components):\n",
    "    bridges = []\n",
    "    for h0 in components[0]:\n",
    "        for h1 in components[1]:\n",
    "            bridge = h3.h3_line(h0, h1)\n",
    "            \n",
    "            if len(bridge) == 3:\n",
    "                # This is a good solution for sure\n",
    "                return bridge\n",
    "            bridges.append(bridge)\n",
    "    return min(bridges, key=lambda v: len(v))"
   ]
  },
  {
   "cell_type": "code",
   "execution_count": 44,
   "metadata": {},
   "outputs": [
    {
     "data": {
      "application/vnd.jupyter.widget-view+json": {
       "model_id": "2c6e12a3e6784eafb26375f00a16b754",
       "version_major": 2,
       "version_minor": 0
      },
      "text/plain": [
       "HBox(children=(FloatProgress(value=0.0, max=290.0), HTML(value='')))"
      ]
     },
     "metadata": {},
     "output_type": "display_data"
    },
    {
     "name": "stdout",
     "output_type": "stream",
     "text": [
      "\n"
     ]
    }
   ],
   "source": [
    "for cluster_id in tqdm(range(cluster_count)):\n",
    "    hexes = get_cluster_hexes(cluster_id)\n",
    "    g = graph_from_hexes(hexes)\n",
    "    \n",
    "    while nx.number_connected_components(g) > 1:\n",
    "        components = list(nx.connected_components(g))\n",
    "        bridge = get_bridge(components)\n",
    "        \n",
    "        pts = []\n",
    "        for h in bridge[1:-1]:\n",
    "            lat_lon = h3.h3_to_geo(h)\n",
    "            hexes.append(h)\n",
    "            pts.append((cluster_id, lat_lon[0], lat_lon[1], h))\n",
    "            \n",
    "        db.insert_cluster_points(pts)\n",
    "        \n",
    "        # Rebuild the graph\n",
    "        g = graph_from_hexes(hexes)"
   ]
  },
  {
   "cell_type": "markdown",
   "metadata": {},
   "source": [
    "You can now go back to the interactive map and explore the patched geofences.\n",
    "\n",
    "In the next notebook we will try to give sensible names to these babies..."
   ]
  },
  {
   "cell_type": "code",
   "execution_count": null,
   "metadata": {},
   "outputs": [],
   "source": []
  }
 ],
 "metadata": {
  "kernelspec": {
   "display_name": "Python 3",
   "language": "python",
   "name": "python3"
  },
  "language_info": {
   "codemirror_mode": {
    "name": "ipython",
    "version": 3
   },
   "file_extension": ".py",
   "mimetype": "text/x-python",
   "name": "python",
   "nbconvert_exporter": "python",
   "pygments_lexer": "ipython3",
   "version": "3.7.7"
  }
 },
 "nbformat": 4,
 "nbformat_minor": 4
}
