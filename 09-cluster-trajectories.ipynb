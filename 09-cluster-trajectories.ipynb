{
 "cells": [
  {
   "cell_type": "markdown",
   "metadata": {},
   "source": [
    "# 9-Cluster Trajectories\n",
    "In this notebook we use the results from the previous ones to display trajectory clusters on a map. We have identified the most important stopping locations and the trips among them. Now, we can dive into these and determine the number of different trajectories.\n",
    "\n",
    "**Requirements:**\n",
    "\n",
    "- Please run the `07-cluster-names.ipynb` notebook first and its dependencies.\n",
    "- Recommended install: [ipywidgets](https://ipywidgets.readthedocs.io/en/stable/user_install.html). Enable using `jupyter nbextension enable --py widgetsnbextension --sys-prefix` for Jupyter Notebook and `jupyter labextension install @jupyter-widgets/jupyterlab-manager` for Jupyter Lab."
   ]
  },
  {
   "cell_type": "code",
   "execution_count": null,
   "metadata": {},
   "outputs": [],
   "source": [
    "import numpy as np\n",
    "import pandas as pd\n",
    "import folium\n",
    "import hdbscan\n",
    "import ipywidgets as widgets\n",
    "\n",
    "from sqlapi import VedDb\n",
    "from distances.frechet import FastDiscreteFrechetMatrix, LinearDiscreteFrechet, earth_haversine\n",
    "from tqdm.auto import tqdm\n",
    "from colour import Color\n",
    "\n",
    "from h3 import h3\n",
    "from shapely.geometry import Polygon\n",
    "from shapely.ops import cascaded_union\n",
    "from ipywidgets import interact, fixed"
   ]
  },
  {
   "cell_type": "markdown",
   "metadata": {},
   "source": [
    "Create an object of the `VedDB` type to interface with the database."
   ]
  },
  {
   "cell_type": "code",
   "execution_count": null,
   "metadata": {},
   "outputs": [],
   "source": [
    "db = VedDb()"
   ]
  },
  {
   "cell_type": "markdown",
   "metadata": {},
   "source": [
    "## Supporting Functions\n",
    "\n",
    "These are the supporting functions for the whole notebook. The `get_trajectories` function returns all the trips between the given cluster identifiers as a NumPy array of arrays."
   ]
  },
  {
   "cell_type": "code",
   "execution_count": null,
   "metadata": {},
   "outputs": [],
   "source": [
    "def get_trajectories(cluster_ini, cluster_end):\n",
    "    sql = \"\"\"\n",
    "    select   vehicle_id\n",
    "    ,        day_num\n",
    "    ,        ts_ini\n",
    "    ,        ts_end\n",
    "    from     move\n",
    "    where    cluster_ini = ? and cluster_end = ?;\"\"\"\n",
    "    moves = db.query(sql, (cluster_ini, cluster_end))\n",
    "    \n",
    "    sql = \"\"\"\n",
    "    select   latitude\n",
    "    ,        longitude\n",
    "    from     signal\n",
    "    where    vehicle_id = ? and day_num = ? and time_stamp <= ?\n",
    "    \"\"\"\n",
    "    \n",
    "    trajectories = []\n",
    "    for move in tqdm(moves):\n",
    "        trajectory = db.query_df(sql, parameters=[move[0], move[1], move[3]]) \\\n",
    "                       .drop_duplicates(subset=[\"latitude\", \"longitude\"]) \\\n",
    "                       .to_numpy()\n",
    "        trajectories.append(trajectory)\n",
    "    return trajectories"
   ]
  },
  {
   "cell_type": "markdown",
   "metadata": {},
   "source": [
    "The function `get_cluster_hexes` retrieves from the databse all H3 indexes that make up a given cluster."
   ]
  },
  {
   "cell_type": "code",
   "execution_count": null,
   "metadata": {},
   "outputs": [],
   "source": [
    "def get_cluster_hexes(cluster_id):\n",
    "    sql = \"select h3 from cluster_point where cluster_id = ?\"\n",
    "    hexes = list({h[0] for h in db.query(sql, [cluster_id])})\n",
    "    return hexes"
   ]
  },
  {
   "cell_type": "markdown",
   "metadata": {},
   "source": [
    "The `get_hexagon` function converts an H3 index to a geospatial polygon."
   ]
  },
  {
   "cell_type": "code",
   "execution_count": null,
   "metadata": {},
   "outputs": [],
   "source": [
    "def get_hexagon(h):\n",
    "    geo_lst = list(h3.h3_to_geo_boundary(h))\n",
    "    geo_lst.append(geo_lst[0])\n",
    "    return np.array(geo_lst)"
   ]
  },
  {
   "cell_type": "markdown",
   "metadata": {},
   "source": [
    "The `create_map_polygon` creates a Folium polygon."
   ]
  },
  {
   "cell_type": "code",
   "execution_count": null,
   "metadata": {},
   "outputs": [],
   "source": [
    "def create_map_polygon(xy, tooltip='',\n",
    "                       color='#3388ff',\n",
    "                       opacity=0.7,\n",
    "                       fill_color='#3388ff',\n",
    "                       fill_opacity=0.4, \n",
    "                       weight=3):\n",
    "    points = [[x[0], x[1]] for x in xy]\n",
    "    polygon = folium.vector_layers.Polygon(locations=points,\n",
    "                                           tooltip=tooltip,\n",
    "                                           fill=True,\n",
    "                                           color=color,\n",
    "                                           fill_color=fill_color,\n",
    "                                           fill_opacity=fill_opacity,\n",
    "                                           weight=weight,\n",
    "                                           opacity=opacity)\n",
    "    return polygon"
   ]
  },
  {
   "cell_type": "markdown",
   "metadata": {},
   "source": [
    "The `create_map_polyline` creates a Folium map polyline"
   ]
  },
  {
   "cell_type": "code",
   "execution_count": null,
   "metadata": {},
   "outputs": [],
   "source": [
    "def create_map_polyline(xy, tooltip='',\n",
    "                        color='#3388ff',\n",
    "                        opacity=0.7, \n",
    "                        weight=3):\n",
    "    polyline = folium.vector_layers.PolyLine(locations=xy,\n",
    "                                             tooltip=tooltip,\n",
    "                                             color=color,\n",
    "                                             weight=weight,\n",
    "                                             opacity=opacity)\n",
    "    return polyline"
   ]
  },
  {
   "cell_type": "markdown",
   "metadata": {},
   "source": [
    "The `get_trajectory_group_bb` function calculates the bounding box for the group of trajectories reported by `get_trajectories`."
   ]
  },
  {
   "cell_type": "code",
   "execution_count": null,
   "metadata": {},
   "outputs": [],
   "source": [
    "def get_trajectory_group_bb(trjs):\n",
    "    min_lat = min([t[:, 0].min() for t in trjs])\n",
    "    min_lon = min([t[:, 1].min() for t in trjs])\n",
    "    max_lat = max([t[:, 0].max() for t in trjs])\n",
    "    max_lon = max([t[:, 1].max() for t in trjs])\n",
    "    return [[min_lat, min_lon], [max_lat, max_lon]]"
   ]
  },
  {
   "cell_type": "markdown",
   "metadata": {},
   "source": [
    "Given a set of HDBSCAN-calculated cluster identifiers, the `get_cluster_colors` function assigns a color to each of the clusters, excluding the outlier indicator (-1)."
   ]
  },
  {
   "cell_type": "code",
   "execution_count": null,
   "metadata": {},
   "outputs": [],
   "source": [
    "def get_cluster_colors(clusters):\n",
    "    blue = Color(\"blue\")\n",
    "    red = Color(\"red\")\n",
    "\n",
    "    ids = np.unique(clusters)\n",
    "    if np.isin(-1, ids):\n",
    "        color_range = list(blue.range_to(red, ids.shape[0] - 1))\n",
    "    else:\n",
    "        color_range = list(blue.range_to(red, ids.shape[0]))\n",
    "    return color_range"
   ]
  },
  {
   "cell_type": "markdown",
   "metadata": {},
   "source": [
    "Creates an HTML Folium map."
   ]
  },
  {
   "cell_type": "code",
   "execution_count": null,
   "metadata": {},
   "outputs": [],
   "source": [
    "def create_map():\n",
    "    html_map = folium.Map(prefer_canvas=True, control_scale=True, \n",
    "                      max_zoom=18, tiles=\"cartodbpositron\")\n",
    "    return html_map"
   ]
  },
  {
   "cell_type": "markdown",
   "metadata": {},
   "source": [
    "The `add_cluster_polygon` function adds the H3-based cluster geofence to an existing Folium map."
   ]
  },
  {
   "cell_type": "code",
   "execution_count": null,
   "metadata": {},
   "outputs": [],
   "source": [
    "def add_cluster_polygon(html_map, cluster_id):\n",
    "    polygons = []\n",
    "    hexes = get_cluster_hexes(cluster_id)\n",
    "    for h in hexes:\n",
    "        points = get_hexagon(h)\n",
    "        xy = [[x[1], x[0]] for x in points]\n",
    "        xy.append([points[0][1], points[0][0]])\n",
    "        polygons.append(Polygon(xy))\n",
    "        \n",
    "    merged = cascaded_union(polygons)\n",
    "    \n",
    "    if merged.geom_type == \"MultiPolygon\":\n",
    "        max_len = 0\n",
    "        largest = None\n",
    "        for geom in merged.geoms:\n",
    "            xy = geom.exterior.coords.xy\n",
    "            lxy = list(zip(xy[1], xy[0]))\n",
    "            create_map_polygon(lxy, tooltip=str(cluster_id)).add_to(html_map)\n",
    "    elif merged.geom_type == \"Polygon\":\n",
    "        xy = merged.exterior.coords.xy\n",
    "        lxy = list(zip(xy[1], xy[0]))\n",
    "\n",
    "        create_map_polygon(lxy, tooltip=str(cluster_id)).add_to(html_map)\n",
    "    return html_map"
   ]
  },
  {
   "cell_type": "markdown",
   "metadata": {},
   "source": [
    "The `show_trajectory_group_map` displays all the trajectories in a map, optionally with clustering coloring information."
   ]
  },
  {
   "cell_type": "code",
   "execution_count": null,
   "metadata": {},
   "outputs": [],
   "source": [
    "def show_trajectory_group_map(html_map, trajectories, clusterer=None):\n",
    "    cluster_colors = ['#3388ff']\n",
    "    \n",
    "    if clusterer is not None:\n",
    "        cluster_colors = get_cluster_colors(clusterer.labels_)\n",
    "    \n",
    "    for i in range(len(trajectories)):\n",
    "        trajectory = trajectories[i]\n",
    "        \n",
    "        if clusterer is None:\n",
    "            color = '#3388ff'\n",
    "        else:\n",
    "            color_idx = clusterer.labels_[i]\n",
    "            if color_idx == -1 or clusterer.outlier_scores_[i] > 0.9:\n",
    "                color = '#777777'\n",
    "            else:\n",
    "                color = cluster_colors[color_idx].hex\n",
    "        \n",
    "        polyline = create_map_polyline(trajectory, color=color)\n",
    "        polyline.add_to(html_map)\n",
    "\n",
    "    bound_box = get_trajectory_group_bb(trajectories)\n",
    "    html_map.fit_bounds(bound_box)\n",
    "    return html_map"
   ]
  },
  {
   "cell_type": "markdown",
   "metadata": {},
   "source": [
    "The `show_single_trajectory` function displays a map with a single trajectory from the set of existing trajectories. This function is used below to help audit the individual trajectories."
   ]
  },
  {
   "cell_type": "code",
   "execution_count": null,
   "metadata": {},
   "outputs": [],
   "source": [
    "def show_single_trajectory(trajectories, trajectory_num):\n",
    "    html_map = create_map()\n",
    "    bound_box = get_trajectory_group_bb(trajectories)\n",
    "    html_map.fit_bounds(bound_box)\n",
    "\n",
    "    trajectory = trajectories[trajectory_num]\n",
    "\n",
    "    color = '#3388ff'\n",
    "    \n",
    "    polyline = create_map_polyline(trajectory, color=color)\n",
    "    polyline.add_to(html_map)\n",
    "\n",
    "    return html_map"
   ]
  },
  {
   "cell_type": "markdown",
   "metadata": {},
   "source": [
    "## Trajectory Display\n",
    "Here, we display all trajectories together in one Folium map. Use the variables below to set the starting cluster identifier and the ending cluster identifier. A nice query to extract promising pairs of clusters is this:\n",
    "```\n",
    "select * from (\n",
    "    select   cluster_ini\n",
    "    ,        cluster_end\n",
    "    ,        count(move_id) as move_count\n",
    "    from     move\n",
    "    where    cluster_ini <> -1 and \n",
    "             cluster_end <> -1 and \n",
    "             cluster_ini <> cluster_end\n",
    "    group by cluster_ini, cluster_end\n",
    ") tt order by tt.move_count desc;\n",
    "```"
   ]
  },
  {
   "cell_type": "code",
   "execution_count": null,
   "metadata": {},
   "outputs": [],
   "source": [
    "cluster_ini = 9\n",
    "cluster_end = 6"
   ]
  },
  {
   "cell_type": "markdown",
   "metadata": {},
   "source": [
    "## Display the Grouped Trajectories\n",
    "\n",
    "We start by displaying the collected trajectories on a map. For the trips starting at cluster 9 and ending at 6, there are two clear clusters of trajectories along with some outliers."
   ]
  },
  {
   "cell_type": "code",
   "execution_count": null,
   "metadata": {},
   "outputs": [],
   "source": [
    "trajectories = get_trajectories(cluster_ini, cluster_end)\n",
    "html_map = create_map()\n",
    "html_map = show_trajectory_group_map(html_map, trajectories)\n",
    "html_map = add_cluster_polygon(html_map, cluster_ini)\n",
    "html_map = add_cluster_polygon(html_map, cluster_end)\n",
    "html_map"
   ]
  },
  {
   "cell_type": "markdown",
   "metadata": {},
   "source": [
    "## Cluster the Trajectories\n",
    "\n",
    "To cluster the trajectories with HDBSCAN, we must first start by calculating the symmetric distance matrix between each pair of trajectories. The `calculate_distance_matrix` function does just that."
   ]
  },
  {
   "cell_type": "code",
   "execution_count": null,
   "metadata": {},
   "outputs": [],
   "source": [
    "def calculate_distance_matrix(trajectories):\n",
    "    n_traj = len(trajectories)\n",
    "    dist_mat = np.zeros((n_traj, n_traj), dtype=np.float64)\n",
    "    dfd = FastDiscreteFrechetMatrix(earth_haversine)\n",
    "\n",
    "    for i in range(n_traj - 1):\n",
    "        p = trajectories[i]\n",
    "        for j in range(i + 1, n_traj):\n",
    "            q = trajectories[j]\n",
    "\n",
    "            # Make sure the distance matrix is symmetric\n",
    "            dist_mat[i, j] = dfd.distance(p, q)\n",
    "            dist_mat[j, i] = dist_mat[i, j]\n",
    "    return dist_mat"
   ]
  },
  {
   "cell_type": "code",
   "execution_count": null,
   "metadata": {},
   "outputs": [],
   "source": [
    "dist_mat = calculate_distance_matrix(trajectories)"
   ]
  },
  {
   "cell_type": "markdown",
   "metadata": {},
   "source": [
    "After calculating the distance matrix, we can now run it through the HDBSCAN algorithm and colect the calculated cluster identifiers."
   ]
  },
  {
   "cell_type": "code",
   "execution_count": null,
   "metadata": {},
   "outputs": [],
   "source": [
    "clusterer = hdbscan.HDBSCAN(metric='precomputed', min_cluster_size=2, min_samples=1, cluster_selection_methos='leaf')"
   ]
  },
  {
   "cell_type": "code",
   "execution_count": null,
   "metadata": {},
   "outputs": [],
   "source": [
    "clusterer.fit(dist_mat)"
   ]
  },
  {
   "cell_type": "code",
   "execution_count": null,
   "metadata": {},
   "outputs": [],
   "source": [
    "clusterer.labels_"
   ]
  },
  {
   "cell_type": "markdown",
   "metadata": {},
   "source": [
    "We can now display the colored version of the map above, by using the HDBSCAN-calculated cluster identifiers. Note that outlier trajectories are drawn in gray."
   ]
  },
  {
   "cell_type": "code",
   "execution_count": null,
   "metadata": {},
   "outputs": [],
   "source": [
    "html_map = create_map()\n",
    "html_map = show_trajectory_group_map(html_map, trajectories, clusterer)\n",
    "html_map = add_cluster_polygon(html_map, cluster_ini)\n",
    "html_map = add_cluster_polygon(html_map, cluster_end)\n",
    "html_map"
   ]
  },
  {
   "cell_type": "code",
   "execution_count": null,
   "metadata": {},
   "outputs": [],
   "source": []
  }
 ],
 "metadata": {
  "kernelspec": {
   "display_name": "Python 3",
   "language": "python",
   "name": "python3"
  },
  "language_info": {
   "codemirror_mode": {
    "name": "ipython",
    "version": 3
   },
   "file_extension": ".py",
   "mimetype": "text/x-python",
   "name": "python",
   "nbconvert_exporter": "python",
   "pygments_lexer": "ipython3",
   "version": "3.8.2"
  }
 },
 "nbformat": 4,
 "nbformat_minor": 4
}
