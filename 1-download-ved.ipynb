{
 "cells": [
  {
   "cell_type": "markdown",
   "metadata": {},
   "source": [
    "# 1-Download the VED"
   ]
  },
  {
   "cell_type": "markdown",
   "metadata": {},
   "source": [
    "We start by cloning the Vehicle Energy Dataset data into the `ved` directory under the project home."
   ]
  },
  {
   "cell_type": "code",
   "execution_count": 1,
   "metadata": {},
   "outputs": [
    {
     "name": "stdout",
     "output_type": "stream",
     "text": [
      "Cloning into './ved'...\n",
      "remote: Enumerating objects: 20, done.\u001b[K\n",
      "remote: Total 20 (delta 0), reused 0 (delta 0), pack-reused 20\u001b[K\n",
      "Unpacking objects: 100% (20/20), done.\n"
     ]
    }
   ],
   "source": [
    "! git clone https://github.com/gsoh/VED.git ./ved"
   ]
  },
  {
   "cell_type": "markdown",
   "metadata": {},
   "source": [
    "Now we decompress the two `7z` files to the `data` directory using the `7z` command. Please note thay you may have to install this tool in your machine. Windows users may need to change the command below to `7za`. Please refer to the tool's site."
   ]
  },
  {
   "cell_type": "code",
   "execution_count": 2,
   "metadata": {},
   "outputs": [
    {
     "name": "stdout",
     "output_type": "stream",
     "text": [
      "\n",
      "7-Zip [64] 16.02 : Copyright (c) 1999-2016 Igor Pavlov : 2016-05-21\n",
      "p7zip Version 16.02 (locale=utf8,Utf16=on,HugeFiles=on,64 bits,12 CPUs x64)\n",
      "\n",
      "Scanning the drive for archives:\n",
      "  0M Scan ./ved/Data                    1 file, 82723769 bytes (79 MiB)\n",
      "\n",
      "Extracting archive: ./ved/Data/VED_DynamicData_Part1.7z\n",
      "--\n",
      "Path = ./ved/Data/VED_DynamicData_Part1.7z\n",
      "Type = 7z\n",
      "Physical Size = 82723769\n",
      "Headers Size = 546\n",
      "Method = LZMA2:25\n",
      "Solid = +\n",
      "Blocks = 1\n",
      "\n",
      "      2% - VED_171101_week.c                          6% 1 - VED_171108_week.c                            9% 1 - VED_171108_week.c                           12% 2 - VED_171115_week.c                           16% 3 - VED_171122_week.c                           19% 3 - VED_171122_week.c                           22% 4 - VED_171129_week.c                           26% 5 - VED_171206_week.c                           29% 5 - VED_171206_week.c                           32% 6 - VED_171213_week.c                           36% 6 - VED_171213_week.c                           39% 7 - VED_171220_week.c                           42% 7 - VED_171220_week.c                           46% 8 - VED_171227_week.c                           49% 9 - VED_180103_week.c                           52% 10 - VED_180110_week.cs                             56% 11 - VED_180117_week.cs                             59% 11 - VED_180117_week.cs                             63% 12 - VED_180124_week.cs                             66% 13 - VED_180131_week.cs                             69% 13 - VED_180131_week.cs                             72% 14 - VED_180207_week.cs                             75% 15 - VED_180214_week.cs                             77% 16 - VED_180221_week.cs                             80% 17 - VED_180228_week.cs                             83% 17 - VED_180228_week.cs                             85% 18 - VED_180307_week.cs                             88% 19 - VED_180314_week.cs                             91% 19 - VED_180314_week.cs                             93% 20 - VED_180321_week.cs                             96% 20 - VED_180321_week.cs                             98% 21 - VED_180328_week.cs                            Everything is Ok\n",
      "\n",
      "Files: 22\n",
      "Size:       1463400664\n",
      "Compressed: 82723769\n",
      "\n",
      "7-Zip [64] 16.02 : Copyright (c) 1999-2016 Igor Pavlov : 2016-05-21\n",
      "p7zip Version 16.02 (locale=utf8,Utf16=on,HugeFiles=on,64 bits,12 CPUs x64)\n",
      "\n",
      "Scanning the drive for archives:\n",
      "  0M Scan ./ved/Data                    1 file, 93662910 bytes (90 MiB)\n",
      "\n",
      "Extracting archive: ./ved/Data/VED_DynamicData_Part2.7z\n",
      "--\n",
      "Path = ./ved/Data/VED_DynamicData_Part2.7z\n",
      "Type = 7z\n",
      "Physical Size = 93662910\n",
      "Headers Size = 706\n",
      "Method = LZMA2:25\n",
      "Solid = +\n",
      "Blocks = 1\n",
      "\n",
      "      1% - VED_180404_week.c                          4% 1 - VED_180411_week.c                            6% 1 - VED_180411_week.c                            8% 2 - VED_180418_week.c                           10% 2 - VED_180418_week.c                           13% 3 - VED_180425_week.c                           14% 4 - VED_180502_week.c                           17% 4 - VED_180502_week.c                           19% 5 - VED_180509_week.c                           21% 5 - VED_180509_week.c                           23% 6 - VED_180516_week.c                           25% 7 - VED_180523_week.c                           28% 7 - VED_180523_week.c                           30% 8 - VED_180530_week.c                           32% 8 - VED_180530_week.c                           34% 9 - VED_180606_week.c                           36% 10 - VED_180613_week.cs                             39% 10 - VED_180613_week.cs                             41% 11 - VED_180620_week.cs                             44% 12 - VED_180627_week.cs                             46% 12 - VED_180627_week.cs                             48% 13 - VED_180704_week.cs                             50% 14 - VED_180711_week.cs                             53% 15 - VED_180718_week.cs                             55% 16 - VED_180725_week.cs                             58% 16 - VED_180725_week.cs                             60% 17 - VED_180801_week.cs                             62% 18 - VED_180808_week.cs                             64% 19 - VED_180815_week.cs                             66% 20 - VED_180822_week.cs                             69% 20 - VED_180822_week.cs                             71% 21 - VED_180829_week.cs                             73% 22 - VED_180905_week.cs                             75% 23 - VED_180912_week.cs                             78% 24 - VED_180919_week.cs                             80% 24 - VED_180919_week.cs                             82% 25 - VED_180926_week.cs                             84% 26 - VED_181003_week.cs                             87% 27 - VED_181010_week.cs                             89% 28 - VED_181017_week.cs                             91% 28 - VED_181017_week.cs                             93% 29 - VED_181024_week.cs                             95% 29 - VED_181024_week.cs                             98% 30 - VED_181031_week.cs                            Everything is Ok\n",
      "\n",
      "Files: 32\n",
      "Size:       1740155065\n",
      "Compressed: 93662910\n"
     ]
    }
   ],
   "source": [
    "! 7z x ./ved/Data/VED_DynamicData_Part1.7z -o./data\n",
    "! 7z x ./ved/Data/VED_DynamicData_Part2.7z -o./data"
   ]
  },
  {
   "cell_type": "markdown",
   "metadata": {},
   "source": [
    "Create the directory where the database file will live."
   ]
  },
  {
   "cell_type": "code",
   "execution_count": 3,
   "metadata": {},
   "outputs": [],
   "source": [
    "! mkdir ./db"
   ]
  },
  {
   "cell_type": "markdown",
   "metadata": {},
   "source": []
  }
 ],
 "metadata": {
  "kernelspec": {
   "display_name": "Python 3",
   "language": "python",
   "name": "python3"
  },
  "language_info": {
   "codemirror_mode": {
    "name": "ipython",
    "version": 3
   },
   "file_extension": ".py",
   "mimetype": "text/x-python",
   "name": "python",
   "nbconvert_exporter": "python",
   "pygments_lexer": "ipython3",
   "version": "3.8.2"
  }
 },
 "nbformat": 4,
 "nbformat_minor": 4
}
