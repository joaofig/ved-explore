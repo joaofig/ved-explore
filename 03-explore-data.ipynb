{
 "cells": [
  {
   "cell_type": "markdown",
   "metadata": {},
   "source": [
    "# 3-Exploring the Data\n",
    "In this notebook we start exploring the database downloaded and created by the previous notebooks.\n",
    "\n",
    "**Requirements:**\n",
    "\n",
    "- Please run the `02-import-data.ipynb` notebook first so that you create the SQLite database.\n",
    "- Recommended install: [ipywidgets](https://ipywidgets.readthedocs.io/en/stable/user_install.html)"
   ]
  },
  {
   "cell_type": "code",
   "execution_count": null,
   "metadata": {},
   "outputs": [],
   "source": [
    "import numpy as np\n",
    "import pandas as pd\n",
    "import matplotlib.pyplot as plt\n",
    "\n",
    "from tqdm.notebook import tqdm\n",
    "from db.api import VedDb"
   ]
  },
  {
   "cell_type": "markdown",
   "metadata": {},
   "source": [
    "Start by creating the `db` variable of type `VedDb`. This is our API to the database. All the queries and modifications will happen through this object."
   ]
  },
  {
   "cell_type": "code",
   "execution_count": null,
   "metadata": {},
   "outputs": [],
   "source": [
    "db = VedDb()"
   ]
  },
  {
   "cell_type": "markdown",
   "metadata": {},
   "source": [
    "The `VedDb` class contains a number of convenience functions to help you explore the database through Pandas DataFrames. The `query_df` function executes an arbitrary SQL query against the database and stores the result on a Pandas DataFrame for further inspection or analysis. The sister function `query` does the same thing but stores the result on a list of tuples instead.\n",
    "\n",
    "The following command reads all the vehicles into a DataFrame:"
   ]
  },
  {
   "cell_type": "code",
   "execution_count": null,
   "metadata": {},
   "outputs": [],
   "source": [
    "vehicles = db.query_df(\"select * from vehicle\")"
   ]
  },
  {
   "cell_type": "markdown",
   "metadata": {},
   "source": [
    "We can now run a Pandas query on that DataFrame:"
   ]
  },
  {
   "cell_type": "code",
   "execution_count": null,
   "metadata": {},
   "outputs": [],
   "source": [
    "vehicles.groupby(by='vehicle_type').count()"
   ]
  },
  {
   "cell_type": "markdown",
   "metadata": {},
   "source": [
    "If you want to display the result of a query, you can just display the resulting DataFrame contents, like so:"
   ]
  },
  {
   "cell_type": "code",
   "execution_count": null,
   "metadata": {},
   "outputs": [],
   "source": [
    "db.query_df(\"select * from vehicle\").head(10)"
   ]
  },
  {
   "cell_type": "markdown",
   "metadata": {},
   "source": [
    "To make it a bit more convenient, you can also use the `head` and `tail` functions:"
   ]
  },
  {
   "cell_type": "code",
   "execution_count": null,
   "metadata": {},
   "outputs": [],
   "source": [
    "db.head(\"select * from signal where vehicle_id = 10\")"
   ]
  },
  {
   "cell_type": "code",
   "execution_count": null,
   "metadata": {},
   "outputs": [],
   "source": [
    "db.tail(\"select * from signal where vehicle_id = 10\")"
   ]
  },
  {
   "cell_type": "markdown",
   "metadata": {},
   "source": [
    "If all you need is a scalar, like when counting records, there's another function for you: `query_scalar`. Here I illustrate its use to highlight the difference between the count of distinct `trip_id` values and distinct pairs of `vehicle_id` and `day_num`, the real way to determine trips."
   ]
  },
  {
   "cell_type": "code",
   "execution_count": null,
   "metadata": {},
   "outputs": [],
   "source": [
    "sql = \"\"\"\n",
    "select count(0) from (\n",
    "    select distinct vehicle_id, day_num\n",
    "    from signal \n",
    ") as distinct_trips\n",
    "\"\"\"\n",
    "db.query_scalar(sql)"
   ]
  },
  {
   "cell_type": "markdown",
   "metadata": {},
   "source": [
    "Now we get the number of different instances of `trip_id`."
   ]
  },
  {
   "cell_type": "code",
   "execution_count": null,
   "metadata": {},
   "outputs": [],
   "source": [
    "db.query_scalar(\"select count(distinct trip_id) from signal\")"
   ]
  },
  {
   "cell_type": "markdown",
   "metadata": {},
   "source": [
    "Finally, let's plot an histogram of trip frequencies, using data previously stored on the `move` table:"
   ]
  },
  {
   "cell_type": "code",
   "execution_count": null,
   "metadata": {},
   "outputs": [],
   "source": [
    "sql = \"\"\"\n",
    "select    vehicle_id\n",
    ",         count(day_num) as num_trips\n",
    "from      move\n",
    "group by  vehicle_id\"\"\"\n",
    "trip_counts = db.query_df(sql)"
   ]
  },
  {
   "cell_type": "code",
   "execution_count": null,
   "metadata": {},
   "outputs": [],
   "source": [
    "hh = plt.hist(trip_counts['num_trips'].values, bins=50)"
   ]
  },
  {
   "cell_type": "code",
   "execution_count": null,
   "metadata": {},
   "outputs": [],
   "source": []
  }
 ],
 "metadata": {
  "kernelspec": {
   "display_name": "Python 3",
   "language": "python",
   "name": "python3"
  },
  "language_info": {
   "codemirror_mode": {
    "name": "ipython",
    "version": 3
   },
   "file_extension": ".py",
   "mimetype": "text/x-python",
   "name": "python",
   "nbconvert_exporter": "python",
   "pygments_lexer": "ipython3",
   "version": "3.8.2"
  }
 },
 "nbformat": 4,
 "nbformat_minor": 4
}
