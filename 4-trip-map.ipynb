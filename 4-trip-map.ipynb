{
 "cells": [
  {
   "cell_type": "markdown",
   "metadata": {},
   "source": [
    "# 4-Draw a Trip\n",
    "\n",
    "This notebook illustrates the code to draw an arbitrary trip on a Folium map.\n",
    "\n",
    "**Requirements:**\n",
    "\n",
    "- Please run the `2-import-data.ipynb` notebook first, in case you need to buid the supporting SQLite database.\n",
    "- Recommended install: [ipywidgets](https://ipywidgets.readthedocs.io/en/stable/user_install.html)"
   ]
  },
  {
   "cell_type": "code",
   "execution_count": null,
   "metadata": {},
   "outputs": [],
   "source": [
    "import folium\n",
    "import folium.plugins\n",
    "\n",
    "from sqlapi import VedDb\n",
    "from folium.vector_layers import PolyLine"
   ]
  },
  {
   "cell_type": "markdown",
   "metadata": {},
   "source": [
    "Create an object of the `VedDB` type to interface with the database."
   ]
  },
  {
   "cell_type": "code",
   "execution_count": null,
   "metadata": {},
   "outputs": [],
   "source": [
    "db = VedDb()"
   ]
  },
  {
   "cell_type": "markdown",
   "metadata": {},
   "source": [
    "Declare the Folium map with the `cartodbpositron` set of map tiles."
   ]
  },
  {
   "cell_type": "code",
   "execution_count": null,
   "metadata": {},
   "outputs": [],
   "source": [
    "tiles = \"cartodbpositron\"\n",
    "map = folium.Map(prefer_canvas=True)\n",
    "t = folium.TileLayer(tiles).add_to(map)"
   ]
  },
  {
   "cell_type": "markdown",
   "metadata": {},
   "source": [
    "Query the database to retrieve all the geographic locations. These are returned in a list of tuples with latitude and longitude."
   ]
  },
  {
   "cell_type": "code",
   "execution_count": null,
   "metadata": {},
   "outputs": [],
   "source": [
    "sql = \"\"\"\n",
    "select      s.latitude\n",
    ",           s.longitude\n",
    "from        signal s \n",
    "inner join  move m on m.vehicle_id = s.vehicle_id and m.day_num = s.day_num\n",
    "where       m.move_id = 1\n",
    "\"\"\"\n",
    "locations = db.query(sql)"
   ]
  },
  {
   "cell_type": "markdown",
   "metadata": {},
   "source": [
    "Specify the visual properties for the trip polyline on the map."
   ]
  },
  {
   "cell_type": "code",
   "execution_count": null,
   "metadata": {},
   "outputs": [],
   "source": [
    "color = '#3388ff'\n",
    "opacity = 0.7"
   ]
  },
  {
   "cell_type": "markdown",
   "metadata": {},
   "source": [
    "Calculate the bounding box using the extrema from the lists of latitudes and longitudes."
   ]
  },
  {
   "cell_type": "code",
   "execution_count": null,
   "metadata": {},
   "outputs": [],
   "source": [
    "lats = [l[0] for l in locations]\n",
    "lons = [l[1] for l in locations]\n",
    "min_lat, max_lat = min(lats), max(lats)\n",
    "min_lon, max_lon = min(lons), max(lons)\n",
    "map.fit_bounds([[min_lat, min_lon], [max_lat, max_lon]])"
   ]
  },
  {
   "cell_type": "markdown",
   "metadata": {},
   "source": [
    "Finally, create the trip polyline and place it on the map."
   ]
  },
  {
   "cell_type": "code",
   "execution_count": null,
   "metadata": {},
   "outputs": [],
   "source": [
    "polyline = PolyLine(locations, color=color, opacity=opacity)\n",
    "p = polyline.add_to(map)"
   ]
  },
  {
   "cell_type": "code",
   "execution_count": null,
   "metadata": {},
   "outputs": [],
   "source": [
    "map"
   ]
  },
  {
   "cell_type": "code",
   "execution_count": null,
   "metadata": {},
   "outputs": [],
   "source": []
  }
 ],
 "metadata": {
  "kernelspec": {
   "display_name": "Python 3",
   "language": "python",
   "name": "python3"
  },
  "language_info": {
   "codemirror_mode": {
    "name": "ipython",
    "version": 3
   },
   "file_extension": ".py",
   "mimetype": "text/x-python",
   "name": "python",
   "nbconvert_exporter": "python",
   "pygments_lexer": "ipython3",
   "version": "3.7.7"
  }
 },
 "nbformat": 4,
 "nbformat_minor": 4
}
